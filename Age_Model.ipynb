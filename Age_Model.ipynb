{
 "cells": [
  {
   "cell_type": "markdown",
   "metadata": {},
   "source": [
    "# Age Model\n",
    "\n",
    "This note we'll build a CNN to classify the gender problem. To build our CNN we'll use [tensorflow](https://www.tensorflow.org/)"
   ]
  },
  {
   "cell_type": "markdown",
   "metadata": {},
   "source": [
    "## Setup"
   ]
  },
  {
   "cell_type": "code",
   "execution_count": 1,
   "metadata": {},
   "outputs": [],
   "source": [
    "import tensorflow as tf\n",
    "import numpy as np\n",
    "import matplotlib.pyplot as plt\n",
    "import tensorflow as tf\n",
    "from utils.helpers import unwrapper_data\n",
    "from sklearn.model_selection import train_test_split\n",
    "from glob import glob\n",
    "%matplotlib inline"
   ]
  },
  {
   "cell_type": "markdown",
   "metadata": {},
   "source": [
    "## Data"
   ]
  },
  {
   "cell_type": "code",
   "execution_count": 2,
   "metadata": {},
   "outputs": [
    {
     "name": "stdout",
     "output_type": "stream",
     "text": [
      "['data/03.age.pkl', 'data/02.age.pkl', 'data/01.age.pkl', 'data/04.age.pkl', 'data/05.age.pkl']\n"
     ]
    }
   ],
   "source": [
    "DATA_PATH = 'data/'\n",
    "data = glob(DATA_PATH+'*.age.pkl')\n",
    "print(data)"
   ]
  },
  {
   "cell_type": "markdown",
   "metadata": {},
   "source": [
    "## Model"
   ]
  },
  {
   "cell_type": "code",
   "execution_count": 10,
   "metadata": {},
   "outputs": [
    {
     "name": "stdout",
     "output_type": "stream",
     "text": [
      "_________________________________________________________________\n",
      "Layer (type)                 Output Shape              Param #   \n",
      "=================================================================\n",
      "conv2d_3 (Conv2D)            (None, 50, 50, 64)        1792      \n",
      "_________________________________________________________________\n",
      "batch_normalization_3 (Batch (None, 50, 50, 64)        256       \n",
      "_________________________________________________________________\n",
      "activation_3 (Activation)    (None, 50, 50, 64)        0         \n",
      "_________________________________________________________________\n",
      "max_pooling2d_3 (MaxPooling2 (None, 25, 25, 64)        0         \n",
      "_________________________________________________________________\n",
      "conv2d_4 (Conv2D)            (None, 25, 25, 128)       73856     \n",
      "_________________________________________________________________\n",
      "batch_normalization_4 (Batch (None, 25, 25, 128)       512       \n",
      "_________________________________________________________________\n",
      "activation_4 (Activation)    (None, 25, 25, 128)       0         \n",
      "_________________________________________________________________\n",
      "max_pooling2d_4 (MaxPooling2 (None, 13, 13, 128)       0         \n",
      "_________________________________________________________________\n",
      "conv2d_5 (Conv2D)            (None, 13, 13, 256)       295168    \n",
      "_________________________________________________________________\n",
      "batch_normalization_5 (Batch (None, 13, 13, 256)       1024      \n",
      "_________________________________________________________________\n",
      "activation_5 (Activation)    (None, 13, 13, 256)       0         \n",
      "_________________________________________________________________\n",
      "max_pooling2d_5 (MaxPooling2 (None, 7, 7, 256)         0         \n",
      "_________________________________________________________________\n",
      "flatten_1 (Flatten)          (None, 12544)             0         \n",
      "_________________________________________________________________\n",
      "dense_3 (Dense)              (None, 256)               3211520   \n",
      "_________________________________________________________________\n",
      "dropout_2 (Dropout)          (None, 256)               0         \n",
      "_________________________________________________________________\n",
      "dense_4 (Dense)              (None, 256)               65792     \n",
      "_________________________________________________________________\n",
      "dropout_3 (Dropout)          (None, 256)               0         \n",
      "_________________________________________________________________\n",
      "dense_5 (Dense)              (None, 8)                 2056      \n",
      "=================================================================\n",
      "Total params: 3,651,976\n",
      "Trainable params: 3,651,080\n",
      "Non-trainable params: 896\n",
      "_________________________________________________________________\n"
     ]
    }
   ],
   "source": [
    "model = tf.keras.Sequential([\n",
    "    tf.keras.layers.Conv2D(filters=64, kernel_size=(3,3), strides=(2,2), padding='same', input_shape=(100,100,3)),\n",
    "    tf.keras.layers.BatchNormalization(axis=3),\n",
    "    tf.keras.layers.Activation('relu'),\n",
    "    tf.keras.layers.MaxPooling2D(pool_size=(2,2), strides=(2,2), padding='same'),\n",
    "    tf.keras.layers.Conv2D(filters=128, kernel_size=(3,3), strides=(1,1), padding='same'),\n",
    "    tf.keras.layers.BatchNormalization(axis=3),\n",
    "    tf.keras.layers.Activation('relu'),\n",
    "    tf.keras.layers.MaxPooling2D(pool_size=(2,2), strides=(2,2), padding='same'),\n",
    "    tf.keras.layers.Conv2D(filters=256, kernel_size=(3,3), strides=(1,1), padding='same'),\n",
    "    tf.keras.layers.BatchNormalization(axis=3),\n",
    "    tf.keras.layers.Activation('relu'),\n",
    "    tf.keras.layers.MaxPooling2D(pool_size=(2,2), strides=(2,2), padding='same'),\n",
    "    tf.keras.layers.Flatten(),\n",
    "    tf.keras.layers.Dense(units=256, activation='relu'),\n",
    "    tf.keras.layers.Dropout(rate=0.5),\n",
    "    tf.keras.layers.Dense(units=256, activation='relu'),\n",
    "    tf.keras.layers.Dropout(rate=0.5),\n",
    "    tf.keras.layers.Dense(units=8, activation='softmax')\n",
    "])\n",
    "model.summary()"
   ]
  },
  {
   "cell_type": "markdown",
   "metadata": {},
   "source": [
    "## Input"
   ]
  },
  {
   "cell_type": "code",
   "execution_count": 4,
   "metadata": {},
   "outputs": [
    {
     "name": "stdout",
     "output_type": "stream",
     "text": [
      "0.48440337\n"
     ]
    }
   ],
   "source": [
    "X, y = unwrapper_data(data)\n",
    "mean_x = np.mean(X)\n",
    "for i, _ in enumerate(X):\n",
    "    X[i] -= mean_x\n",
    "print(mean_x)"
   ]
  },
  {
   "cell_type": "code",
   "execution_count": 7,
   "metadata": {},
   "outputs": [
    {
     "data": {
      "text/plain": [
       "((14193, 100, 100, 3), (2505, 100, 100, 3), (14193,), (2505,))"
      ]
     },
     "execution_count": 7,
     "metadata": {},
     "output_type": "execute_result"
    }
   ],
   "source": [
    "X_train, X_test, y_train, y_test = train_test_split(X, y, test_size=0.15)\n",
    "\n",
    "y_oh_train = tf.keras.utils.to_categorical(y=y_train, num_classes=8).astype(np.uint8)\n",
    "y_oh_test =  tf.keras.utils.to_categorical(y=y_test, num_classes=8).astype(np.uint8)\n",
    "\n",
    "X_train.shape, X_test.shape, y_train.shape, y_test.shape"
   ]
  },
  {
   "cell_type": "markdown",
   "metadata": {},
   "source": [
    "## Training"
   ]
  },
  {
   "cell_type": "code",
   "execution_count": 8,
   "metadata": {},
   "outputs": [],
   "source": [
    "BATCH_SIZE = 64\n",
    "EPOCHS = 100"
   ]
  },
  {
   "cell_type": "code",
   "execution_count": 11,
   "metadata": {},
   "outputs": [
    {
     "name": "stdout",
     "output_type": "stream",
     "text": [
      "Train on 12064 samples, validate on 2129 samples\n",
      "Epoch 1/100\n",
      "12032/12064 [============================>.] - ETA: 0s - loss: 2.1257 - acc: 0.3861\n",
      "Epoch 00001: val_loss improved from inf to 1.79574, saving model to models/best_model_age.hdf5\n",
      "12064/12064 [==============================] - 284s 24ms/step - loss: 2.1253 - acc: 0.3859 - val_loss: 1.7957 - val_acc: 0.4049\n",
      "Epoch 2/100\n",
      "12032/12064 [============================>.] - ETA: 0s - loss: 1.7030 - acc: 0.4381\n",
      "Epoch 00002: val_loss improved from 1.79574 to 1.63402, saving model to models/best_model_age.hdf5\n",
      "12064/12064 [==============================] - 191s 16ms/step - loss: 1.7031 - acc: 0.4381 - val_loss: 1.6340 - val_acc: 0.4725\n",
      "Epoch 3/100\n",
      "12032/12064 [============================>.] - ETA: 0s - loss: 1.6721 - acc: 0.4461\n",
      "Epoch 00003: val_loss improved from 1.63402 to 1.55129, saving model to models/best_model_age.hdf5\n",
      "12064/12064 [==============================] - 192s 16ms/step - loss: 1.6711 - acc: 0.4465 - val_loss: 1.5513 - val_acc: 0.4932\n",
      "Epoch 4/100\n",
      "12032/12064 [============================>.] - ETA: 0s - loss: 1.6612 - acc: 0.4471\n",
      "Epoch 00004: val_loss improved from 1.55129 to 1.52130, saving model to models/best_model_age.hdf5\n",
      "12064/12064 [==============================] - 234s 19ms/step - loss: 1.6602 - acc: 0.4474 - val_loss: 1.5213 - val_acc: 0.4955\n",
      "Epoch 5/100\n",
      "12032/12064 [============================>.] - ETA: 0s - loss: 1.6580 - acc: 0.4480\n",
      "Epoch 00005: val_loss improved from 1.52130 to 1.50736, saving model to models/best_model_age.hdf5\n",
      "12064/12064 [==============================] - 278s 23ms/step - loss: 1.6578 - acc: 0.4479 - val_loss: 1.5074 - val_acc: 0.4908\n",
      "Epoch 6/100\n",
      "12032/12064 [============================>.] - ETA: 0s - loss: 1.6464 - acc: 0.4491\n",
      "Epoch 00006: val_loss improved from 1.50736 to 1.48286, saving model to models/best_model_age.hdf5\n",
      "12064/12064 [==============================] - 208s 17ms/step - loss: 1.6462 - acc: 0.4489 - val_loss: 1.4829 - val_acc: 0.5002\n",
      "Epoch 7/100\n",
      "12032/12064 [============================>.] - ETA: 0s - loss: 1.6508 - acc: 0.4480\n",
      "Epoch 00007: val_loss did not improve from 1.48286\n",
      "12064/12064 [==============================] - 195s 16ms/step - loss: 1.6506 - acc: 0.4481 - val_loss: 1.5738 - val_acc: 0.4937\n",
      "Epoch 8/100\n",
      "12032/12064 [============================>.] - ETA: 0s - loss: 1.6441 - acc: 0.4501\n",
      "Epoch 00008: val_loss did not improve from 1.48286\n",
      "12064/12064 [==============================] - 226s 19ms/step - loss: 1.6446 - acc: 0.4498 - val_loss: 1.4908 - val_acc: 0.4913\n",
      "Epoch 9/100\n",
      "12032/12064 [============================>.] - ETA: 0s - loss: 1.6438 - acc: 0.4498\n",
      "Epoch 00009: val_loss improved from 1.48286 to 1.48232, saving model to models/best_model_age.hdf5\n",
      "12064/12064 [==============================] - 228s 19ms/step - loss: 1.6434 - acc: 0.4499 - val_loss: 1.4823 - val_acc: 0.5016\n",
      "Epoch 10/100\n",
      "12032/12064 [============================>.] - ETA: 0s - loss: 1.6293 - acc: 0.4531\n",
      "Epoch 00010: val_loss improved from 1.48232 to 1.48139, saving model to models/best_model_age.hdf5\n",
      "12064/12064 [==============================] - 198s 16ms/step - loss: 1.6295 - acc: 0.4531 - val_loss: 1.4814 - val_acc: 0.5035\n",
      "Epoch 11/100\n",
      "12032/12064 [============================>.] - ETA: 0s - loss: 1.6392 - acc: 0.4492\n",
      "Epoch 00011: val_loss did not improve from 1.48139\n",
      "12064/12064 [==============================] - 206s 17ms/step - loss: 1.6388 - acc: 0.4494 - val_loss: 1.5015 - val_acc: 0.5035\n",
      "Epoch 12/100\n",
      "12032/12064 [============================>.] - ETA: 0s - loss: 1.6407 - acc: 0.4506\n",
      "Epoch 00012: val_loss did not improve from 1.48139\n",
      "12064/12064 [==============================] - 219s 18ms/step - loss: 1.6402 - acc: 0.4507 - val_loss: 1.4814 - val_acc: 0.5007\n",
      "Epoch 13/100\n",
      "12032/12064 [============================>.] - ETA: 0s - loss: 1.6280 - acc: 0.4545\n",
      "Epoch 00013: val_loss did not improve from 1.48139\n",
      "12064/12064 [==============================] - 220s 18ms/step - loss: 1.6284 - acc: 0.4544 - val_loss: 1.4990 - val_acc: 0.5007\n",
      "Epoch 14/100\n",
      "12032/12064 [============================>.] - ETA: 0s - loss: 1.6258 - acc: 0.4541\n",
      "Epoch 00014: val_loss did not improve from 1.48139\n",
      "12064/12064 [==============================] - 215s 18ms/step - loss: 1.6262 - acc: 0.4540 - val_loss: 1.5266 - val_acc: 0.4993\n",
      "Epoch 15/100\n",
      "12032/12064 [============================>.] - ETA: 0s - loss: 1.6340 - acc: 0.4530\n",
      "Epoch 00015: val_loss improved from 1.48139 to 1.47913, saving model to models/best_model_age.hdf5\n",
      "12064/12064 [==============================] - 209s 17ms/step - loss: 1.6338 - acc: 0.4530 - val_loss: 1.4791 - val_acc: 0.5040\n",
      "Epoch 16/100\n",
      "12032/12064 [============================>.] - ETA: 0s - loss: 1.6301 - acc: 0.4526\n",
      "Epoch 00016: val_loss did not improve from 1.47913\n",
      "12064/12064 [==============================] - 209s 17ms/step - loss: 1.6303 - acc: 0.4526 - val_loss: 1.5014 - val_acc: 0.5026\n",
      "Epoch 17/100\n",
      "12032/12064 [============================>.] - ETA: 0s - loss: 1.6365 - acc: 0.4520\n",
      "Epoch 00017: val_loss did not improve from 1.47913\n",
      "12064/12064 [==============================] - 256s 21ms/step - loss: 1.6360 - acc: 0.4522 - val_loss: 1.4987 - val_acc: 0.5002\n",
      "Epoch 18/100\n",
      "12032/12064 [============================>.] - ETA: 0s - loss: 1.6158 - acc: 0.4564\n",
      "Epoch 00018: val_loss improved from 1.47913 to 1.46148, saving model to models/best_model_age.hdf5\n",
      "12064/12064 [==============================] - 196s 16ms/step - loss: 1.6157 - acc: 0.4563 - val_loss: 1.4615 - val_acc: 0.5087\n",
      "Epoch 19/100\n",
      "12032/12064 [============================>.] - ETA: 0s - loss: 1.6303 - acc: 0.4517\n",
      "Epoch 00019: val_loss did not improve from 1.46148\n",
      "12064/12064 [==============================] - 196s 16ms/step - loss: 1.6307 - acc: 0.4514 - val_loss: 1.4643 - val_acc: 0.5078\n",
      "Epoch 20/100\n",
      "12032/12064 [============================>.] - ETA: 0s - loss: 1.6162 - acc: 0.4567\n",
      "Epoch 00020: val_loss did not improve from 1.46148\n",
      "12064/12064 [==============================] - 199s 16ms/step - loss: 1.6169 - acc: 0.4565 - val_loss: 1.4771 - val_acc: 0.5082\n",
      "Epoch 21/100\n",
      "12032/12064 [============================>.] - ETA: 0s - loss: 1.6216 - acc: 0.4558\n",
      "Epoch 00021: val_loss did not improve from 1.46148\n",
      "12064/12064 [==============================] - 198s 16ms/step - loss: 1.6215 - acc: 0.4558 - val_loss: 1.4875 - val_acc: 0.5031\n",
      "Epoch 22/100\n",
      "12032/12064 [============================>.] - ETA: 0s - loss: 1.6306 - acc: 0.4546\n",
      "Epoch 00022: val_loss did not improve from 1.46148\n",
      "12064/12064 [==============================] - 212s 18ms/step - loss: 1.6312 - acc: 0.4543 - val_loss: 1.5098 - val_acc: 0.4979\n",
      "Epoch 23/100\n",
      "12032/12064 [============================>.] - ETA: 0s - loss: 1.6291 - acc: 0.4550\n",
      "Epoch 00023: val_loss did not improve from 1.46148\n",
      "12064/12064 [==============================] - 165s 14ms/step - loss: 1.6286 - acc: 0.4550 - val_loss: 1.4846 - val_acc: 0.5087\n",
      "Epoch 24/100\n",
      "12032/12064 [============================>.] - ETA: 0s - loss: 1.6224 - acc: 0.4549\n",
      "Epoch 00024: val_loss did not improve from 1.46148\n",
      "12064/12064 [==============================] - 161s 13ms/step - loss: 1.6225 - acc: 0.4549 - val_loss: 1.4825 - val_acc: 0.5021\n",
      "Epoch 25/100\n",
      "12032/12064 [============================>.] - ETA: 0s - loss: 1.6297 - acc: 0.4529\n",
      "Epoch 00025: val_loss did not improve from 1.46148\n",
      "12064/12064 [==============================] - 158s 13ms/step - loss: 1.6290 - acc: 0.4533 - val_loss: 1.4908 - val_acc: 0.5016\n",
      "Epoch 26/100\n",
      "12032/12064 [============================>.] - ETA: 34s - loss: 1.6285 - acc: 0.4526 \n",
      "Epoch 00026: val_loss did not improve from 1.46148\n",
      "12064/12064 [==============================] - 13024s 1s/step - loss: 1.6286 - acc: 0.4524 - val_loss: 1.4915 - val_acc: 0.4979\n",
      "Epoch 27/100\n",
      "12032/12064 [============================>.] - ETA: 18s - loss: 1.6185 - acc: 0.4556\n",
      "Epoch 00027: val_loss did not improve from 1.46148\n",
      "12064/12064 [==============================] - 7111s 589ms/step - loss: 1.6182 - acc: 0.4556 - val_loss: 1.5473 - val_acc: 0.4777\n",
      "Epoch 28/100\n",
      "12032/12064 [============================>.] - ETA: 42s - loss: 1.6204 - acc: 0.4564 \n",
      "Epoch 00028: val_loss did not improve from 1.46148\n",
      "12064/12064 [==============================] - 16076s 1s/step - loss: 1.6212 - acc: 0.4559 - val_loss: 1.4977 - val_acc: 0.4927\n"
     ]
    },
    {
     "name": "stdout",
     "output_type": "stream",
     "text": [
      "Epoch 00028: early stopping\n"
     ]
    }
   ],
   "source": [
    "list_callbacks = [tf.keras.callbacks.EarlyStopping(monitor='val_loss', patience=10, verbose=1),\n",
    "                  tf.keras.callbacks.ModelCheckpoint('models/best_model_age.hdf5', monitor='val_loss', verbose=1, save_best_only=True)]\n",
    "model.compile(loss=tf.keras.losses.categorical_crossentropy, optimizer='adam', metrics=['accuracy'])\n",
    "\n",
    "hist = model.fit(x=X_train, y=y_oh_train, epochs=EPOCHS, batch_size=BATCH_SIZE, callbacks=list_callbacks, validation_split=0.15)"
   ]
  },
  {
   "cell_type": "code",
   "execution_count": 12,
   "metadata": {},
   "outputs": [
    {
     "name": "stdout",
     "output_type": "stream",
     "text": [
      "Train => [1.4904809237735968, 0.49059395476853396]\n",
      "Test => [1.508828360686997, 0.4802395210532609]\n"
     ]
    }
   ],
   "source": [
    "print('Train =>', model.evaluate(X_train, y_oh_train, verbose=0))\n",
    "print('Test =>', model.evaluate(X_test, y_oh_test, verbose=0))"
   ]
  },
  {
   "cell_type": "code",
   "execution_count": 13,
   "metadata": {},
   "outputs": [
    {
     "data": {
      "text/plain": [
       "<matplotlib.legend.Legend at 0x1a3ff18780>"
      ]
     },
     "execution_count": 13,
     "metadata": {},
     "output_type": "execute_result"
    },
    {
     "data": {
      "image/png": "[encoded data removed]",
      "text/plain": [
       "<Figure size 432x288 with 1 Axes>"
      ]
     },
     "metadata": {
      "needs_background": "light"
     },
     "output_type": "display_data"
    }
   ],
   "source": [
    "hist_dict = hist.history\n",
    "loss_val = hist_dict['val_loss']\n",
    "loss_train = hist_dict['loss']\n",
    "\n",
    "plt.figure()\n",
    "plt.plot(loss_train, label='Train')\n",
    "plt.plot(loss_val, label='Validation')\n",
    "plt.legend()"
   ]
  },
  {
   "cell_type": "code",
   "execution_count": 14,
   "metadata": {},
   "outputs": [
    {
     "data": {
      "text/plain": [
       "<matplotlib.legend.Legend at 0x1a54b8fef0>"
      ]
     },
     "execution_count": 14,
     "metadata": {},
     "output_type": "execute_result"
    },
    {
     "data": {
      "image/png": "[encoded data removed]",
      "text/plain": [
       "<Figure size 432x288 with 1 Axes>"
      ]
     },
     "metadata": {
      "needs_background": "light"
     },
     "output_type": "display_data"
    }
   ],
   "source": [
    "hist_dict = hist.history\n",
    "acc_val = hist_dict['val_acc']\n",
    "acc_train = hist_dict['acc']\n",
    "\n",
    "plt.figure()\n",
    "plt.plot(acc_train, label='Train')\n",
    "plt.plot(acc_val, label='Validation')\n",
    "plt.legend()"
   ]
  }
 ],
 "metadata": {
  "kernelspec": {
   "display_name": "Python 3",
   "language": "python",
   "name": "python3"
  },
  "language_info": {
   "codemirror_mode": {
    "name": "ipython",
    "version": 3
   },
   "file_extension": ".py",
   "mimetype": "text/x-python",
   "name": "python",
   "nbconvert_exporter": "python",
   "pygments_lexer": "ipython3",
   "version": "3.6.5"
  }
 },
 "nbformat": 4,
 "nbformat_minor": 2
}
