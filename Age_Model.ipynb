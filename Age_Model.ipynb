{
 "cells": [
  {
   "cell_type": "markdown",
   "metadata": {},
   "source": [
    "# Age Model\n",
    "\n",
    "This note we'll build a CNN to classify the gender problem. To build our CNN we'll use [tensorflow](https://www.tensorflow.org/)"
   ]
  },
  {
   "cell_type": "markdown",
   "metadata": {},
   "source": [
    "## Setup"
   ]
  },
  {
   "cell_type": "code",
   "execution_count": 1,
   "metadata": {},
   "outputs": [],
   "source": [
    "import tensorflow as tf\n",
    "import numpy as np\n",
    "import matplotlib.pyplot as plt\n",
    "import tensorflow as tf\n",
    "from utils.helpers import unwrapper_data\n",
    "from sklearn.model_selection import train_test_split\n",
    "from glob import glob\n",
    "%matplotlib inline"
   ]
  },
  {
   "cell_type": "markdown",
   "metadata": {},
   "source": [
    "## Data"
   ]
  },
  {
   "cell_type": "code",
   "execution_count": 2,
   "metadata": {},
   "outputs": [
    {
     "name": "stdout",
     "output_type": "stream",
     "text": [
      "['data/03.age.pkl', 'data/02.age.pkl', 'data/01.age.pkl', 'data/04.age.pkl', 'data/05.age.pkl']\n"
     ]
    }
   ],
   "source": [
    "DATA_PATH = 'data/'\n",
    "data = glob(DATA_PATH+'*.age.pkl')\n",
    "print(data)"
   ]
  },
  {
   "cell_type": "markdown",
   "metadata": {},
   "source": [
    "## Model"
   ]
  },
  {
   "cell_type": "code",
   "execution_count": 11,
   "metadata": {},
   "outputs": [
    {
     "name": "stdout",
     "output_type": "stream",
     "text": [
      "_________________________________________________________________\n",
      "Layer (type)                 Output Shape              Param #   \n",
      "=================================================================\n",
      "conv2d_18 (Conv2D)           (None, 100, 100, 64)      1792      \n",
      "_________________________________________________________________\n",
      "batch_normalization_16 (Batc (None, 100, 100, 64)      256       \n",
      "_________________________________________________________________\n",
      "activation_16 (Activation)   (None, 100, 100, 64)      0         \n",
      "_________________________________________________________________\n",
      "max_pooling2d_11 (MaxPooling (None, 50, 50, 64)        0         \n",
      "_________________________________________________________________\n",
      "dropout_18 (Dropout)         (None, 50, 50, 64)        0         \n",
      "_________________________________________________________________\n",
      "conv2d_19 (Conv2D)           (None, 25, 25, 128)       73856     \n",
      "_________________________________________________________________\n",
      "batch_normalization_17 (Batc (None, 25, 25, 128)       512       \n",
      "_________________________________________________________________\n",
      "activation_17 (Activation)   (None, 25, 25, 128)       0         \n",
      "_________________________________________________________________\n",
      "dropout_19 (Dropout)         (None, 25, 25, 128)       0         \n",
      "_________________________________________________________________\n",
      "max_pooling2d_12 (MaxPooling (None, 13, 13, 128)       0         \n",
      "_________________________________________________________________\n",
      "conv2d_20 (Conv2D)           (None, 7, 7, 256)         295168    \n",
      "_________________________________________________________________\n",
      "batch_normalization_18 (Batc (None, 7, 7, 256)         1024      \n",
      "_________________________________________________________________\n",
      "activation_18 (Activation)   (None, 7, 7, 256)         0         \n",
      "_________________________________________________________________\n",
      "average_pooling2d_5 (Average (None, 4, 4, 256)         0         \n",
      "_________________________________________________________________\n",
      "flatten_5 (Flatten)          (None, 4096)              0         \n",
      "_________________________________________________________________\n",
      "dense_16 (Dense)             (None, 256)               1048832   \n",
      "_________________________________________________________________\n",
      "dropout_20 (Dropout)         (None, 256)               0         \n",
      "_________________________________________________________________\n",
      "dense_17 (Dense)             (None, 256)               65792     \n",
      "_________________________________________________________________\n",
      "dropout_21 (Dropout)         (None, 256)               0         \n",
      "_________________________________________________________________\n",
      "dense_18 (Dense)             (None, 8)                 2056      \n",
      "=================================================================\n",
      "Total params: 1,489,288\n",
      "Trainable params: 1,488,392\n",
      "Non-trainable params: 896\n",
      "_________________________________________________________________\n"
     ]
    }
   ],
   "source": [
    "model = tf.keras.Sequential()\n",
    "model.add(tf.keras.layers.Conv2D(filters=64,\n",
    "                                 kernel_size=(3,3),\n",
    "                                 strides=(2,2),\n",
    "                                 padding='same',\n",
    "                                 input_shape=(200,200,3)))\n",
    "model.add(tf.keras.layers.BatchNormalization(axis=3))\n",
    "model.add(tf.keras.layers.Activation('relu'))\n",
    "model.add(tf.keras.layers.MaxPooling2D(pool_size=(2,2), strides=(2,2), padding='same'))\n",
    "model.add(tf.keras.layers.Dropout(rate=0.25))\n",
    "model.add(tf.keras.layers.Conv2D(filters=128, kernel_size=(3,3), strides=(2,2), padding='same'))\n",
    "model.add(tf.keras.layers.BatchNormalization(axis=3))\n",
    "model.add(tf.keras.layers.Activation('relu'))\n",
    "model.add(tf.keras.layers.Dropout(rate=0.25))\n",
    "model.add(tf.keras.layers.MaxPooling2D(pool_size=(2,2), strides=(2,2), padding='same'))\n",
    "model.add(tf.keras.layers.Conv2D(filters=256, kernel_size=(3,3), strides=(2,2), padding='same'))\n",
    "model.add(tf.keras.layers.BatchNormalization(axis=3))\n",
    "model.add(tf.keras.layers.Activation('relu'))\n",
    "model.add(tf.keras.layers.AveragePooling2D(pool_size=(2,2), strides=(2,2), padding='same'))\n",
    "model.add(tf.keras.layers.Flatten())\n",
    "model.add(tf.keras.layers.Dense(units=256, activation='relu'))\n",
    "model.add(tf.keras.layers.Dropout(rate=0.5))\n",
    "model.add(tf.keras.layers.Dense(units=256, activation='relu'))\n",
    "model.add(tf.keras.layers.Dropout(rate=0.5))\n",
    "model.add(tf.keras.layers.Dense(units=8, activation='softmax'))\n",
    "\n",
    "model.summary()"
   ]
  },
  {
   "cell_type": "markdown",
   "metadata": {},
   "source": [
    "## Input"
   ]
  },
  {
   "cell_type": "code",
   "execution_count": 12,
   "metadata": {},
   "outputs": [
    {
     "data": {
      "text/plain": [
       "((14193, 200, 200, 3), (2505, 200, 200, 3), (14193,), (2505,))"
      ]
     },
     "execution_count": 12,
     "metadata": {},
     "output_type": "execute_result"
    }
   ],
   "source": [
    "X, y = unwrapper_data(data)\n",
    "X_train, X_test, y_train, y_test = train_test_split(X, y, test_size=0.15)\n",
    "\n",
    "y_oh_train = tf.keras.utils.to_categorical(y=y_train, num_classes=8).astype(np.uint8)\n",
    "y_oh_test =  tf.keras.utils.to_categorical(y=y_test, num_classes=8).astype(np.uint8)\n",
    "\n",
    "X_train.shape, X_test.shape, y_train.shape, y_test.shape"
   ]
  },
  {
   "cell_type": "markdown",
   "metadata": {},
   "source": [
    "## Training"
   ]
  },
  {
   "cell_type": "code",
   "execution_count": 13,
   "metadata": {},
   "outputs": [],
   "source": [
    "BATCH_SIZE = 64\n",
    "EPOCHS = 100"
   ]
  },
  {
   "cell_type": "code",
   "execution_count": 14,
   "metadata": {},
   "outputs": [
    {
     "name": "stdout",
     "output_type": "stream",
     "text": [
      "Train on 12064 samples, validate on 2129 samples\n",
      "Epoch 1/100\n",
      "12032/12064 [============================>.] - ETA: 3s - loss: 1.7920 - acc: 0.4076\n",
      "Epoch 00001: val_loss improved from inf to 1.60065, saving model to models/best_model_age.hdf5\n",
      "12064/12064 [==============================] - 1158s 96ms/step - loss: 1.7917 - acc: 0.4077 - val_loss: 1.6007 - val_acc: 0.4908\n",
      "Epoch 2/100\n",
      "12032/12064 [============================>.] - ETA: 2s - loss: 1.5318 - acc: 0.4840\n",
      "Epoch 00002: val_loss improved from 1.60065 to 1.47324, saving model to models/best_model_age.hdf5\n",
      "12064/12064 [==============================] - 880s 73ms/step - loss: 1.5308 - acc: 0.4844 - val_loss: 1.4732 - val_acc: 0.5402\n",
      "Epoch 3/100\n",
      "12032/12064 [============================>.] - ETA: 1s - loss: 1.4319 - acc: 0.5244\n",
      "Epoch 00003: val_loss improved from 1.47324 to 1.36450, saving model to models/best_model_age.hdf5\n",
      "12064/12064 [==============================] - 459s 38ms/step - loss: 1.4310 - acc: 0.5247 - val_loss: 1.3645 - val_acc: 0.5759\n",
      "Epoch 4/100\n",
      "12032/12064 [============================>.] - ETA: 1s - loss: 1.3523 - acc: 0.5458\n",
      "Epoch 00004: val_loss did not improve from 1.36450\n",
      "12064/12064 [==============================] - 616s 51ms/step - loss: 1.3528 - acc: 0.5455 - val_loss: 1.4559 - val_acc: 0.5012\n",
      "Epoch 5/100\n",
      "12032/12064 [============================>.] - ETA: 1s - loss: 1.3202 - acc: 0.5470\n",
      "Epoch 00005: val_loss did not improve from 1.36450\n",
      "12064/12064 [==============================] - 695s 58ms/step - loss: 1.3203 - acc: 0.5474 - val_loss: 1.4705 - val_acc: 0.4753\n",
      "Epoch 6/100\n",
      "12032/12064 [============================>.] - ETA: 1s - loss: 1.2827 - acc: 0.5595\n",
      "Epoch 00006: val_loss did not improve from 1.36450\n",
      "12064/12064 [==============================] - 645s 53ms/step - loss: 1.2822 - acc: 0.5597 - val_loss: 1.6024 - val_acc: 0.3621\n",
      "Epoch 7/100\n",
      "12032/12064 [============================>.] - ETA: 1s - loss: 1.2337 - acc: 0.5678\n",
      "Epoch 00007: val_loss improved from 1.36450 to 1.35687, saving model to models/best_model_age.hdf5\n",
      "12064/12064 [==============================] - 580s 48ms/step - loss: 1.2335 - acc: 0.5680 - val_loss: 1.3569 - val_acc: 0.5975\n",
      "Epoch 8/100\n",
      "12032/12064 [============================>.] - ETA: 1s - loss: 1.2063 - acc: 0.5726\n",
      "Epoch 00008: val_loss improved from 1.35687 to 1.22994, saving model to models/best_model_age.hdf5\n",
      "12064/12064 [==============================] - 563s 47ms/step - loss: 1.2061 - acc: 0.5729 - val_loss: 1.2299 - val_acc: 0.6228\n",
      "Epoch 9/100\n",
      "12032/12064 [============================>.] - ETA: 1s - loss: 1.1811 - acc: 0.5782\n",
      "Epoch 00009: val_loss did not improve from 1.22994\n",
      "12064/12064 [==============================] - 546s 45ms/step - loss: 1.1814 - acc: 0.5785 - val_loss: 1.6903 - val_acc: 0.4425\n",
      "Epoch 10/100\n",
      "12032/12064 [============================>.] - ETA: 1s - loss: 1.1665 - acc: 0.5885\n",
      "Epoch 00010: val_loss did not improve from 1.22994\n",
      "12064/12064 [==============================] - 534s 44ms/step - loss: 1.1656 - acc: 0.5889 - val_loss: 1.3543 - val_acc: 0.5411\n",
      "Epoch 11/100\n",
      "12032/12064 [============================>.] - ETA: 1s - loss: 1.1352 - acc: 0.5928\n",
      "Epoch 00011: val_loss did not improve from 1.22994\n",
      "12064/12064 [==============================] - 645s 53ms/step - loss: 1.1357 - acc: 0.5923 - val_loss: 1.2705 - val_acc: 0.6177\n",
      "Epoch 12/100\n",
      "12032/12064 [============================>.] - ETA: 1s - loss: 1.1217 - acc: 0.5998\n",
      "Epoch 00012: val_loss improved from 1.22994 to 1.12173, saving model to models/best_model_age.hdf5\n",
      "12064/12064 [==============================] - 571s 47ms/step - loss: 1.1227 - acc: 0.5995 - val_loss: 1.1217 - val_acc: 0.6501\n",
      "Epoch 13/100\n",
      "12032/12064 [============================>.] - ETA: 1s - loss: 1.1037 - acc: 0.6006\n",
      "Epoch 00013: val_loss did not improve from 1.12173\n",
      "12064/12064 [==============================] - 570s 47ms/step - loss: 1.1037 - acc: 0.6006 - val_loss: 1.7822 - val_acc: 0.3109\n",
      "Epoch 14/100\n",
      "12032/12064 [============================>.] - ETA: 1s - loss: 1.0895 - acc: 0.6080\n",
      "Epoch 00014: val_loss did not improve from 1.12173\n",
      "12064/12064 [==============================] - 532s 44ms/step - loss: 1.0899 - acc: 0.6077 - val_loss: 1.4403 - val_acc: 0.4861\n",
      "Epoch 15/100\n",
      "12032/12064 [============================>.] - ETA: 1s - loss: 1.0726 - acc: 0.6111\n",
      "Epoch 00015: val_loss did not improve from 1.12173\n",
      "12064/12064 [==============================] - 554s 46ms/step - loss: 1.0720 - acc: 0.6115 - val_loss: 1.2278 - val_acc: 0.5801\n",
      "Epoch 16/100\n",
      "12032/12064 [============================>.] - ETA: 1s - loss: 1.0538 - acc: 0.6169\n",
      "Epoch 00016: val_loss did not improve from 1.12173\n",
      "12064/12064 [==============================] - 657s 54ms/step - loss: 1.0549 - acc: 0.6162 - val_loss: 1.4680 - val_acc: 0.4655\n",
      "Epoch 17/100\n",
      "12032/12064 [============================>.] - ETA: 1s - loss: 1.0455 - acc: 0.6120\n",
      "Epoch 00017: val_loss improved from 1.12173 to 1.09695, saving model to models/best_model_age.hdf5\n",
      "12064/12064 [==============================] - 632s 52ms/step - loss: 1.0456 - acc: 0.6122 - val_loss: 1.0969 - val_acc: 0.6261\n",
      "Epoch 18/100\n",
      "12032/12064 [============================>.] - ETA: 2s - loss: 1.0343 - acc: 0.6235\n",
      "Epoch 00018: val_loss did not improve from 1.09695\n",
      "12064/12064 [==============================] - 779s 65ms/step - loss: 1.0351 - acc: 0.6234 - val_loss: 1.1402 - val_acc: 0.6224\n",
      "Epoch 19/100\n",
      "12032/12064 [============================>.] - ETA: 1s - loss: 1.0143 - acc: 0.6236\n",
      "Epoch 00019: val_loss did not improve from 1.09695\n",
      "12064/12064 [==============================] - 532s 44ms/step - loss: 1.0139 - acc: 0.6238 - val_loss: 1.1732 - val_acc: 0.5881\n",
      "Epoch 20/100\n",
      "12032/12064 [============================>.] - ETA: 2s - loss: 0.9817 - acc: 0.6337\n",
      "Epoch 00020: val_loss did not improve from 1.09695\n",
      "12064/12064 [==============================] - 897s 74ms/step - loss: 0.9819 - acc: 0.6335 - val_loss: 1.1860 - val_acc: 0.5759\n",
      "Epoch 21/100\n",
      "12032/12064 [============================>.] - ETA: 1s - loss: 0.9840 - acc: 0.6395\n",
      "Epoch 00021: val_loss did not improve from 1.09695\n",
      "12064/12064 [==============================] - 717s 59ms/step - loss: 0.9853 - acc: 0.6396 - val_loss: 1.1893 - val_acc: 0.5721\n",
      "Epoch 22/100\n",
      "12032/12064 [============================>.] - ETA: 1s - loss: 0.9650 - acc: 0.6399\n",
      "Epoch 00022: val_loss did not improve from 1.09695\n",
      "12064/12064 [==============================] - 693s 57ms/step - loss: 0.9650 - acc: 0.6398 - val_loss: 1.3341 - val_acc: 0.5331\n",
      "Epoch 23/100\n",
      "12032/12064 [============================>.] - ETA: 1s - loss: 0.9599 - acc: 0.6437\n",
      "Epoch 00023: val_loss did not improve from 1.09695\n",
      "12064/12064 [==============================] - 621s 51ms/step - loss: 0.9600 - acc: 0.6437 - val_loss: 1.2238 - val_acc: 0.5928\n",
      "Epoch 24/100\n",
      "12032/12064 [============================>.] - ETA: 1s - loss: 0.9308 - acc: 0.6525\n",
      "Epoch 00024: val_loss did not improve from 1.09695\n",
      "12064/12064 [==============================] - 615s 51ms/step - loss: 0.9307 - acc: 0.6524 - val_loss: 1.2082 - val_acc: 0.5754\n",
      "Epoch 25/100\n",
      "12032/12064 [============================>.] - ETA: 1s - loss: 0.9239 - acc: 0.6524\n",
      "Epoch 00025: val_loss did not improve from 1.09695\n",
      "12064/12064 [==============================] - 569s 47ms/step - loss: 0.9250 - acc: 0.6521 - val_loss: 1.1592 - val_acc: 0.5876\n",
      "Epoch 26/100\n",
      "12032/12064 [============================>.] - ETA: 2s - loss: 0.9072 - acc: 0.6576\n",
      "Epoch 00026: val_loss improved from 1.09695 to 1.09005, saving model to models/best_model_age.hdf5\n",
      "12064/12064 [==============================] - 925s 77ms/step - loss: 0.9067 - acc: 0.6576 - val_loss: 1.0901 - val_acc: 0.6069\n",
      "Epoch 27/100\n",
      "12032/12064 [============================>.] - ETA: 1s - loss: 0.9057 - acc: 0.6575\n",
      "Epoch 00027: val_loss did not improve from 1.09005\n",
      "12064/12064 [==============================] - 675s 56ms/step - loss: 0.9056 - acc: 0.6576 - val_loss: 1.1719 - val_acc: 0.5951\n",
      "Epoch 28/100\n",
      "12032/12064 [============================>.] - ETA: 1s - loss: 0.8836 - acc: 0.6701\n",
      "Epoch 00028: val_loss did not improve from 1.09005\n",
      "12064/12064 [==============================] - 530s 44ms/step - loss: 0.8845 - acc: 0.6696 - val_loss: 1.2856 - val_acc: 0.5110\n",
      "Epoch 29/100\n"
     ]
    },
    {
     "name": "stdout",
     "output_type": "stream",
     "text": [
      "12032/12064 [============================>.] - ETA: 1s - loss: 0.8760 - acc: 0.6671\n",
      "Epoch 00029: val_loss did not improve from 1.09005\n",
      "12064/12064 [==============================] - 513s 43ms/step - loss: 0.8757 - acc: 0.6674 - val_loss: 1.3657 - val_acc: 0.5045\n",
      "Epoch 30/100\n",
      "12032/12064 [============================>.] - ETA: 1s - loss: 0.8683 - acc: 0.6744\n",
      "Epoch 00030: val_loss did not improve from 1.09005\n",
      "12064/12064 [==============================] - 636s 53ms/step - loss: 0.8675 - acc: 0.6746 - val_loss: 1.1953 - val_acc: 0.5543\n",
      "Epoch 31/100\n",
      "12032/12064 [============================>.] - ETA: 1s - loss: 0.8539 - acc: 0.6774\n",
      "Epoch 00031: val_loss did not improve from 1.09005\n",
      "12064/12064 [==============================] - 681s 56ms/step - loss: 0.8542 - acc: 0.6771 - val_loss: 1.2582 - val_acc: 0.4927\n",
      "Epoch 32/100\n",
      "12032/12064 [============================>.] - ETA: 16s - loss: 0.8392 - acc: 0.6838\n",
      "Epoch 00032: val_loss did not improve from 1.09005\n",
      "12064/12064 [==============================] - 7620s 632ms/step - loss: 0.8393 - acc: 0.6838 - val_loss: 1.1848 - val_acc: 0.5279\n",
      "Epoch 33/100\n",
      "12032/12064 [============================>.] - ETA: 1:01 - loss: 0.8205 - acc: 0.6845\n",
      "Epoch 00033: val_loss did not improve from 1.09005\n",
      "12064/12064 [==============================] - 23088s 2s/step - loss: 0.8207 - acc: 0.6844 - val_loss: 1.1451 - val_acc: 0.5777\n",
      "Epoch 34/100\n",
      "12032/12064 [============================>.] - ETA: 2s - loss: 0.8126 - acc: 0.6925\n",
      "Epoch 00034: val_loss did not improve from 1.09005\n",
      "12064/12064 [==============================] - 948s 79ms/step - loss: 0.8123 - acc: 0.6926 - val_loss: 1.2403 - val_acc: 0.5176\n",
      "Epoch 35/100\n",
      "12032/12064 [============================>.] - ETA: 1s - loss: 0.7906 - acc: 0.6993\n",
      "Epoch 00035: val_loss did not improve from 1.09005\n",
      "12064/12064 [==============================] - 468s 39ms/step - loss: 0.7903 - acc: 0.6993 - val_loss: 1.1854 - val_acc: 0.5247\n",
      "Epoch 36/100\n",
      "12032/12064 [============================>.] - ETA: 1s - loss: 0.7845 - acc: 0.7029\n",
      "Epoch 00036: val_loss did not improve from 1.09005\n",
      "12064/12064 [==============================] - 488s 40ms/step - loss: 0.7849 - acc: 0.7028 - val_loss: 1.2298 - val_acc: 0.5134\n",
      "Epoch 00036: early stopping\n"
     ]
    }
   ],
   "source": [
    "list_callbacks = [tf.keras.callbacks.EarlyStopping(monitor='val_loss', patience=10, verbose=1),\n",
    "                  tf.keras.callbacks.ModelCheckpoint('models/best_model_age.hdf5', monitor='val_loss', verbose=1, save_best_only=True)]\n",
    "model.compile(loss=tf.keras.losses.categorical_crossentropy, optimizer='adam', metrics=['accuracy'])\n",
    "\n",
    "hist = model.fit(x=X_train, y=y_oh_train, epochs=EPOCHS, batch_size=BATCH_SIZE, callbacks=list_callbacks, validation_split=0.15)"
   ]
  },
  {
   "cell_type": "code",
   "execution_count": 16,
   "metadata": {},
   "outputs": [
    {
     "name": "stdout",
     "output_type": "stream",
     "text": [
      "Train => [1.0983051392389203, 0.566828718384401]\n",
      "Test => [1.2169057378274, 0.5253493014091027]\n"
     ]
    }
   ],
   "source": [
    "print('Train =>', model.evaluate(X_train, y_oh_train, verbose=0))\n",
    "print('Test =>', model.evaluate(X_test, y_oh_test, verbose=0))"
   ]
  },
  {
   "cell_type": "code",
   "execution_count": 17,
   "metadata": {},
   "outputs": [
    {
     "data": {
      "text/plain": [
       "<matplotlib.legend.Legend at 0x1a52672278>"
      ]
     },
     "execution_count": 17,
     "metadata": {},
     "output_type": "execute_result"
    },
    {
     "data": {
      "image/png": "[encoded data removed]",
      "text/plain": [
       "<Figure size 432x288 with 1 Axes>"
      ]
     },
     "metadata": {
      "needs_background": "light"
     },
     "output_type": "display_data"
    }
   ],
   "source": [
    "hist_dict = hist.history\n",
    "loss_val = hist_dict['val_loss']\n",
    "loss_train = hist_dict['loss']\n",
    "\n",
    "plt.figure()\n",
    "plt.plot(loss_train, label='Train')\n",
    "plt.plot(loss_val, label='Validation')\n",
    "plt.legend()"
   ]
  },
  {
   "cell_type": "code",
   "execution_count": 18,
   "metadata": {},
   "outputs": [
    {
     "data": {
      "text/plain": [
       "<matplotlib.legend.Legend at 0x1a3e66bac8>"
      ]
     },
     "execution_count": 18,
     "metadata": {},
     "output_type": "execute_result"
    },
    {
     "data": {
      "image/png": "[encoded data removed]",
      "text/plain": [
       "<Figure size 432x288 with 1 Axes>"
      ]
     },
     "metadata": {
      "needs_background": "light"
     },
     "output_type": "display_data"
    }
   ],
   "source": [
    "hist_dict = hist.history\n",
    "acc_val = hist_dict['val_acc']\n",
    "acc_train = hist_dict['acc']\n",
    "\n",
    "plt.figure()\n",
    "plt.plot(acc_train, label='Train')\n",
    "plt.plot(acc_val, label='Validation')\n",
    "plt.legend()"
   ]
  }
 ],
 "metadata": {
  "kernelspec": {
   "display_name": "Python 3",
   "language": "python",
   "name": "python3"
  },
  "language_info": {
   "codemirror_mode": {
    "name": "ipython",
    "version": 3
   },
   "file_extension": ".py",
   "mimetype": "text/x-python",
   "name": "python",
   "nbconvert_exporter": "python",
   "pygments_lexer": "ipython3",
   "version": "3.6.5"
  }
 },
 "nbformat": 4,
 "nbformat_minor": 2
}
