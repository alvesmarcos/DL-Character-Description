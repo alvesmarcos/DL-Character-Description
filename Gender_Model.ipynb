{
 "cells": [
  {
   "cell_type": "markdown",
   "metadata": {},
   "source": [
    "# Gender Model\n",
    "\n",
    "This note we'll build a CNN to classify the gender problem. To build our CNN we'll use [tensorflow](https://www.tensorflow.org/)."
   ]
  },
  {
   "cell_type": "markdown",
   "metadata": {},
   "source": [
    "## Setup"
   ]
  },
  {
   "cell_type": "code",
   "execution_count": 1,
   "metadata": {},
   "outputs": [],
   "source": [
    "import numpy as np\n",
    "import matplotlib.pyplot as plt\n",
    "import tensorflow as tf\n",
    "from utils.helpers import unwrapper_data\n",
    "from sklearn.model_selection import train_test_split\n",
    "from glob import glob\n",
    "%matplotlib inline"
   ]
  },
  {
   "cell_type": "markdown",
   "metadata": {},
   "source": [
    "## Data"
   ]
  },
  {
   "cell_type": "code",
   "execution_count": 2,
   "metadata": {},
   "outputs": [
    {
     "name": "stdout",
     "output_type": "stream",
     "text": [
      "['data/02.gender.pkl', 'data/05.gender.pkl', 'data/03.gender.pkl', 'data/04.gender.pkl', 'data/01.gender.pkl']\n"
     ]
    }
   ],
   "source": [
    "DATA_PATH = 'data/'\n",
    "data = glob(DATA_PATH+'*.gender.pkl')\n",
    "print(data)"
   ]
  },
  {
   "cell_type": "markdown",
   "metadata": {},
   "source": [
    "## Model"
   ]
  },
  {
   "cell_type": "code",
   "execution_count": 5,
   "metadata": {},
   "outputs": [
    {
     "name": "stdout",
     "output_type": "stream",
     "text": [
      "_________________________________________________________________\n",
      "Layer (type)                 Output Shape              Param #   \n",
      "=================================================================\n",
      "conv2d_6 (Conv2D)            (None, 50, 50, 64)        1792      \n",
      "_________________________________________________________________\n",
      "batch_normalization_6 (Batch (None, 50, 50, 64)        256       \n",
      "_________________________________________________________________\n",
      "activation_6 (Activation)    (None, 50, 50, 64)        0         \n",
      "_________________________________________________________________\n",
      "max_pooling2d_6 (MaxPooling2 (None, 25, 25, 64)        0         \n",
      "_________________________________________________________________\n",
      "conv2d_7 (Conv2D)            (None, 25, 25, 128)       73856     \n",
      "_________________________________________________________________\n",
      "batch_normalization_7 (Batch (None, 25, 25, 128)       512       \n",
      "_________________________________________________________________\n",
      "activation_7 (Activation)    (None, 25, 25, 128)       0         \n",
      "_________________________________________________________________\n",
      "max_pooling2d_7 (MaxPooling2 (None, 13, 13, 128)       0         \n",
      "_________________________________________________________________\n",
      "conv2d_8 (Conv2D)            (None, 13, 13, 256)       295168    \n",
      "_________________________________________________________________\n",
      "batch_normalization_8 (Batch (None, 13, 13, 256)       1024      \n",
      "_________________________________________________________________\n",
      "activation_8 (Activation)    (None, 13, 13, 256)       0         \n",
      "_________________________________________________________________\n",
      "max_pooling2d_8 (MaxPooling2 (None, 7, 7, 256)         0         \n",
      "_________________________________________________________________\n",
      "flatten_2 (Flatten)          (None, 12544)             0         \n",
      "_________________________________________________________________\n",
      "dense_6 (Dense)              (None, 256)               3211520   \n",
      "_________________________________________________________________\n",
      "dropout_4 (Dropout)          (None, 256)               0         \n",
      "_________________________________________________________________\n",
      "dense_7 (Dense)              (None, 256)               65792     \n",
      "_________________________________________________________________\n",
      "dropout_5 (Dropout)          (None, 256)               0         \n",
      "_________________________________________________________________\n",
      "dense_8 (Dense)              (None, 1)                 257       \n",
      "=================================================================\n",
      "Total params: 3,650,177\n",
      "Trainable params: 3,649,281\n",
      "Non-trainable params: 896\n",
      "_________________________________________________________________\n"
     ]
    }
   ],
   "source": [
    "model = tf.keras.Sequential([\n",
    "    tf.keras.layers.Conv2D(filters=64, kernel_size=(3,3), strides=(2,2), padding='same', input_shape=(100,100,3)),\n",
    "    tf.keras.layers.BatchNormalization(axis=3),\n",
    "    tf.keras.layers.Activation('relu'),\n",
    "    tf.keras.layers.MaxPooling2D(pool_size=(2,2), strides=(2,2), padding='same'),\n",
    "    tf.keras.layers.Conv2D(filters=128, kernel_size=(3,3), strides=(1,1), padding='same'),\n",
    "    tf.keras.layers.BatchNormalization(axis=3),\n",
    "    tf.keras.layers.Activation('relu'),\n",
    "    tf.keras.layers.MaxPooling2D(pool_size=(2,2), strides=(2,2), padding='same'),\n",
    "    tf.keras.layers.Conv2D(filters=256, kernel_size=(3,3), strides=(1,1), padding='same'),\n",
    "    tf.keras.layers.BatchNormalization(axis=3),\n",
    "    tf.keras.layers.Activation('relu'),\n",
    "    tf.keras.layers.MaxPooling2D(pool_size=(2,2), strides=(2,2), padding='same'),\n",
    "    tf.keras.layers.Flatten(),\n",
    "    tf.keras.layers.Dense(units=256, activation='relu'),\n",
    "    tf.keras.layers.Dropout(rate=0.5),\n",
    "    tf.keras.layers.Dense(units=256, activation='relu'),\n",
    "    tf.keras.layers.Dropout(rate=0.5),\n",
    "    tf.keras.layers.Dense(units=1, activation='sigmoid')\n",
    "])\n",
    "model.summary()"
   ]
  },
  {
   "cell_type": "markdown",
   "metadata": {},
   "source": [
    "## Input"
   ]
  },
  {
   "cell_type": "code",
   "execution_count": 6,
   "metadata": {},
   "outputs": [
    {
     "name": "stdout",
     "output_type": "stream",
     "text": [
      "0.4810395\n"
     ]
    }
   ],
   "source": [
    "X, y = unwrapper_data(data)\n",
    "mean_x = np.mean(X)\n",
    "for i, _ in enumerate(X):\n",
    "    X[i] -= mean_x\n",
    "print(mean_x)"
   ]
  },
  {
   "cell_type": "code",
   "execution_count": 7,
   "metadata": {},
   "outputs": [
    {
     "data": {
      "text/plain": [
       "((20151, 100, 100, 3), (3557, 100, 100, 3), (20151,), (3557,))"
      ]
     },
     "execution_count": 7,
     "metadata": {},
     "output_type": "execute_result"
    }
   ],
   "source": [
    "X_train, X_test, y_train, y_test = train_test_split(X, y, test_size=0.15)\n",
    "X_train.shape, X_test.shape, y_train.shape, y_test.shape"
   ]
  },
  {
   "cell_type": "markdown",
   "metadata": {},
   "source": [
    "## Training"
   ]
  },
  {
   "cell_type": "code",
   "execution_count": 8,
   "metadata": {},
   "outputs": [],
   "source": [
    "BATCH_SIZE = 64\n",
    "EPOCHS = 100"
   ]
  },
  {
   "cell_type": "code",
   "execution_count": 9,
   "metadata": {},
   "outputs": [
    {
     "name": "stdout",
     "output_type": "stream",
     "text": [
      "Train on 17128 samples, validate on 3023 samples\n",
      "Epoch 1/100\n",
      "17088/17128 [============================>.] - ETA: 0s - loss: 0.7110 - acc: 0.6563\n",
      "Epoch 00001: val_loss improved from inf to 0.68880, saving model to models/best_model_gender.hdf5\n",
      "17128/17128 [==============================] - 238s 14ms/step - loss: 0.7111 - acc: 0.6564 - val_loss: 0.6888 - val_acc: 0.5415\n",
      "Epoch 2/100\n",
      "17088/17128 [============================>.] - ETA: 0s - loss: 0.5013 - acc: 0.7483\n",
      "Epoch 00002: val_loss improved from 0.68880 to 0.35514, saving model to models/best_model_gender.hdf5\n",
      "17128/17128 [==============================] - 225s 13ms/step - loss: 0.5010 - acc: 0.7484 - val_loss: 0.3551 - val_acc: 0.8277\n",
      "Epoch 3/100\n",
      "17088/17128 [============================>.] - ETA: 0s - loss: 0.4455 - acc: 0.7853\n",
      "Epoch 00003: val_loss improved from 0.35514 to 0.35231, saving model to models/best_model_gender.hdf5\n",
      "17128/17128 [==============================] - 315s 18ms/step - loss: 0.4456 - acc: 0.7853 - val_loss: 0.3523 - val_acc: 0.8429\n",
      "Epoch 4/100\n",
      "17088/17128 [============================>.] - ETA: 0s - loss: 0.4090 - acc: 0.8055\n",
      "Epoch 00004: val_loss improved from 0.35231 to 0.31933, saving model to models/best_model_gender.hdf5\n",
      "17128/17128 [==============================] - 325s 19ms/step - loss: 0.4089 - acc: 0.8054 - val_loss: 0.3193 - val_acc: 0.8521\n",
      "Epoch 5/100\n",
      "17088/17128 [============================>.] - ETA: 0s - loss: 0.3945 - acc: 0.8136\n",
      "Epoch 00005: val_loss did not improve from 0.31933\n",
      "17128/17128 [==============================] - 296s 17ms/step - loss: 0.3945 - acc: 0.8136 - val_loss: 0.3771 - val_acc: 0.8707\n",
      "Epoch 6/100\n",
      "17088/17128 [============================>.] - ETA: 0s - loss: 0.3700 - acc: 0.8291\n",
      "Epoch 00006: val_loss improved from 0.31933 to 0.27944, saving model to models/best_model_gender.hdf5\n",
      "17128/17128 [==============================] - 282s 16ms/step - loss: 0.3698 - acc: 0.8293 - val_loss: 0.2794 - val_acc: 0.8750\n",
      "Epoch 7/100\n",
      "17088/17128 [============================>.] - ETA: 0s - loss: 0.3650 - acc: 0.8318\n",
      "Epoch 00007: val_loss did not improve from 0.27944\n",
      "17128/17128 [==============================] - 275s 16ms/step - loss: 0.3648 - acc: 0.8319 - val_loss: 0.2817 - val_acc: 0.8799\n",
      "Epoch 8/100\n",
      "17088/17128 [============================>.] - ETA: 0s - loss: 0.3527 - acc: 0.8370\n",
      "Epoch 00008: val_loss improved from 0.27944 to 0.27140, saving model to models/best_model_gender.hdf5\n",
      "17128/17128 [==============================] - 304s 18ms/step - loss: 0.3527 - acc: 0.8368 - val_loss: 0.2714 - val_acc: 0.8806\n",
      "Epoch 9/100\n",
      "17088/17128 [============================>.] - ETA: 0s - loss: 0.3465 - acc: 0.8406\n",
      "Epoch 00009: val_loss did not improve from 0.27140\n",
      "17128/17128 [==============================] - 245s 14ms/step - loss: 0.3465 - acc: 0.8406 - val_loss: 0.2797 - val_acc: 0.8846\n",
      "Epoch 10/100\n",
      "17088/17128 [============================>.] - ETA: 0s - loss: 0.3325 - acc: 0.8500\n",
      "Epoch 00010: val_loss improved from 0.27140 to 0.24113, saving model to models/best_model_gender.hdf5\n",
      "17128/17128 [==============================] - 259s 15ms/step - loss: 0.3323 - acc: 0.8501 - val_loss: 0.2411 - val_acc: 0.8895\n",
      "Epoch 11/100\n",
      "17088/17128 [============================>.] - ETA: 0s - loss: 0.3209 - acc: 0.8568\n",
      "Epoch 00011: val_loss did not improve from 0.24113\n",
      "17128/17128 [==============================] - 269s 16ms/step - loss: 0.3213 - acc: 0.8566 - val_loss: 0.2638 - val_acc: 0.8925\n",
      "Epoch 12/100\n",
      "17088/17128 [============================>.] - ETA: 0s - loss: 0.3100 - acc: 0.8603\n",
      "Epoch 00012: val_loss improved from 0.24113 to 0.24070, saving model to models/best_model_gender.hdf5\n",
      "17128/17128 [==============================] - 264s 15ms/step - loss: 0.3095 - acc: 0.8606 - val_loss: 0.2407 - val_acc: 0.8895\n",
      "Epoch 13/100\n",
      "17088/17128 [============================>.] - ETA: 0s - loss: 0.3113 - acc: 0.8610\n",
      "Epoch 00013: val_loss did not improve from 0.24070\n",
      "17128/17128 [==============================] - 351s 21ms/step - loss: 0.3116 - acc: 0.8609 - val_loss: 0.2912 - val_acc: 0.8710\n",
      "Epoch 14/100\n",
      "17088/17128 [============================>.] - ETA: 0s - loss: 0.3022 - acc: 0.8668\n",
      "Epoch 00014: val_loss did not improve from 0.24070\n",
      "17128/17128 [==============================] - 273s 16ms/step - loss: 0.3022 - acc: 0.8668 - val_loss: 0.2552 - val_acc: 0.8978\n",
      "Epoch 15/100\n",
      "17088/17128 [============================>.] - ETA: 0s - loss: 0.2851 - acc: 0.8737\n",
      "Epoch 00015: val_loss did not improve from 0.24070\n",
      "17128/17128 [==============================] - 313s 18ms/step - loss: 0.2851 - acc: 0.8735 - val_loss: 0.2471 - val_acc: 0.8981\n",
      "Epoch 16/100\n",
      "17088/17128 [============================>.] - ETA: 0s - loss: 0.2940 - acc: 0.8684\n",
      "Epoch 00016: val_loss improved from 0.24070 to 0.23284, saving model to models/best_model_gender.hdf5\n",
      "17128/17128 [==============================] - 232s 14ms/step - loss: 0.2941 - acc: 0.8682 - val_loss: 0.2328 - val_acc: 0.8951\n",
      "Epoch 17/100\n",
      "17088/17128 [============================>.] - ETA: 0s - loss: 0.2816 - acc: 0.8765\n",
      "Epoch 00017: val_loss did not improve from 0.23284\n",
      "17128/17128 [==============================] - 227s 13ms/step - loss: 0.2816 - acc: 0.8765 - val_loss: 0.2486 - val_acc: 0.9011\n",
      "Epoch 18/100\n",
      "17088/17128 [============================>.] - ETA: 0s - loss: 0.2695 - acc: 0.8842\n",
      "Epoch 00018: val_loss did not improve from 0.23284\n",
      "17128/17128 [==============================] - 230s 13ms/step - loss: 0.2697 - acc: 0.8841 - val_loss: 0.2379 - val_acc: 0.9011\n",
      "Epoch 19/100\n",
      "17088/17128 [============================>.] - ETA: 0s - loss: 0.2650 - acc: 0.8854\n",
      "Epoch 00019: val_loss did not improve from 0.23284\n",
      "17128/17128 [==============================] - 228s 13ms/step - loss: 0.2650 - acc: 0.8853 - val_loss: 0.2334 - val_acc: 0.9054\n",
      "Epoch 20/100\n",
      "17088/17128 [============================>.] - ETA: 0s - loss: 0.2587 - acc: 0.8874\n",
      "Epoch 00020: val_loss improved from 0.23284 to 0.23044, saving model to models/best_model_gender.hdf5\n",
      "17128/17128 [==============================] - 227s 13ms/step - loss: 0.2584 - acc: 0.8876 - val_loss: 0.2304 - val_acc: 0.8971\n",
      "Epoch 21/100\n",
      "17088/17128 [============================>.] - ETA: 0s - loss: 0.2511 - acc: 0.8914\n",
      "Epoch 00021: val_loss improved from 0.23044 to 0.22483, saving model to models/best_model_gender.hdf5\n",
      "17128/17128 [==============================] - 229s 13ms/step - loss: 0.2513 - acc: 0.8913 - val_loss: 0.2248 - val_acc: 0.9037\n",
      "Epoch 22/100\n",
      "17088/17128 [============================>.] - ETA: 0s - loss: 0.2434 - acc: 0.8958\n",
      "Epoch 00022: val_loss improved from 0.22483 to 0.22431, saving model to models/best_model_gender.hdf5\n",
      "17128/17128 [==============================] - 228s 13ms/step - loss: 0.2432 - acc: 0.8960 - val_loss: 0.2243 - val_acc: 0.9037\n",
      "Epoch 23/100\n",
      "17088/17128 [============================>.] - ETA: 0s - loss: 0.2401 - acc: 0.8962\n",
      "Epoch 00023: val_loss did not improve from 0.22431\n",
      "17128/17128 [==============================] - 227s 13ms/step - loss: 0.2402 - acc: 0.8961 - val_loss: 0.2338 - val_acc: 0.9001\n",
      "Epoch 24/100\n",
      "17088/17128 [============================>.] - ETA: 0s - loss: 0.2351 - acc: 0.9007\n",
      "Epoch 00024: val_loss did not improve from 0.22431\n",
      "17128/17128 [==============================] - 227s 13ms/step - loss: 0.2353 - acc: 0.9006 - val_loss: 0.2271 - val_acc: 0.9123\n",
      "Epoch 25/100\n",
      "17088/17128 [============================>.] - ETA: 0s - loss: 0.2295 - acc: 0.9021\n",
      "Epoch 00025: val_loss did not improve from 0.22431\n",
      "17128/17128 [==============================] - 228s 13ms/step - loss: 0.2294 - acc: 0.9022 - val_loss: 0.2449 - val_acc: 0.8994\n",
      "Epoch 26/100\n",
      "17088/17128 [============================>.] - ETA: 0s - loss: 0.2312 - acc: 0.8997\n",
      "Epoch 00026: val_loss improved from 0.22431 to 0.22342, saving model to models/best_model_gender.hdf5\n",
      "17128/17128 [==============================] - 231s 13ms/step - loss: 0.2311 - acc: 0.8998 - val_loss: 0.2234 - val_acc: 0.9080\n",
      "Epoch 27/100\n",
      "17088/17128 [============================>.] - ETA: 0s - loss: 0.2248 - acc: 0.9045\n",
      "Epoch 00027: val_loss did not improve from 0.22342\n",
      "17128/17128 [==============================] - 229s 13ms/step - loss: 0.2248 - acc: 0.9045 - val_loss: 0.2394 - val_acc: 0.9018\n",
      "Epoch 28/100\n"
     ]
    },
    {
     "name": "stdout",
     "output_type": "stream",
     "text": [
      "17088/17128 [============================>.] - ETA: 0s - loss: 0.2175 - acc: 0.9087\n",
      "Epoch 00028: val_loss did not improve from 0.22342\n",
      "17128/17128 [==============================] - 230s 13ms/step - loss: 0.2176 - acc: 0.9087 - val_loss: 0.2381 - val_acc: 0.9027\n",
      "Epoch 29/100\n",
      "17088/17128 [============================>.] - ETA: 0s - loss: 0.2205 - acc: 0.9062\n",
      "Epoch 00029: val_loss did not improve from 0.22342\n",
      "17128/17128 [==============================] - 265s 15ms/step - loss: 0.2206 - acc: 0.9061 - val_loss: 0.2296 - val_acc: 0.9100\n",
      "Epoch 30/100\n",
      "17088/17128 [============================>.] - ETA: 0s - loss: 0.2124 - acc: 0.9098\n",
      "Epoch 00030: val_loss did not improve from 0.22342\n",
      "17128/17128 [==============================] - 364s 21ms/step - loss: 0.2123 - acc: 0.9098 - val_loss: 0.2346 - val_acc: 0.9064\n",
      "Epoch 31/100\n",
      "17088/17128 [============================>.] - ETA: 0s - loss: 0.2051 - acc: 0.9142\n",
      "Epoch 00031: val_loss did not improve from 0.22342\n",
      "17128/17128 [==============================] - 249s 15ms/step - loss: 0.2053 - acc: 0.9141 - val_loss: 0.2792 - val_acc: 0.9031\n",
      "Epoch 32/100\n",
      "17088/17128 [============================>.] - ETA: 0s - loss: 0.2124 - acc: 0.9105\n",
      "Epoch 00032: val_loss did not improve from 0.22342\n",
      "17128/17128 [==============================] - 226s 13ms/step - loss: 0.2123 - acc: 0.9105 - val_loss: 0.2412 - val_acc: 0.9018\n",
      "Epoch 33/100\n",
      "17088/17128 [============================>.] - ETA: 3s - loss: 0.2114 - acc: 0.9090\n",
      "Epoch 00033: val_loss did not improve from 0.22342\n",
      "17128/17128 [==============================] - 1305s 76ms/step - loss: 0.2119 - acc: 0.9088 - val_loss: 0.2829 - val_acc: 0.9061\n",
      "Epoch 34/100\n",
      "17088/17128 [============================>.] - ETA: 0s - loss: 0.2188 - acc: 0.9081\n",
      "Epoch 00034: val_loss did not improve from 0.22342\n",
      "17128/17128 [==============================] - 229s 13ms/step - loss: 0.2185 - acc: 0.9082 - val_loss: 0.2420 - val_acc: 0.9123\n",
      "Epoch 35/100\n",
      "17088/17128 [============================>.] - ETA: 0s - loss: 0.1933 - acc: 0.9197\n",
      "Epoch 00035: val_loss did not improve from 0.22342\n",
      "17128/17128 [==============================] - 242s 14ms/step - loss: 0.1931 - acc: 0.9198 - val_loss: 0.2649 - val_acc: 0.9070\n",
      "Epoch 36/100\n",
      "17088/17128 [============================>.] - ETA: 0s - loss: 0.2013 - acc: 0.9151\n",
      "Epoch 00036: val_loss did not improve from 0.22342\n",
      "17128/17128 [==============================] - 270s 16ms/step - loss: 0.2013 - acc: 0.9151 - val_loss: 0.2684 - val_acc: 0.9064\n",
      "Epoch 00036: early stopping\n"
     ]
    }
   ],
   "source": [
    "list_callbacks = [tf.keras.callbacks.EarlyStopping(monitor='val_loss', patience=10, verbose=1),\n",
    "                  tf.keras.callbacks.ModelCheckpoint('models/best_model_gender.hdf5', monitor='val_loss', verbose=1, save_best_only=True)]\n",
    "model.compile(loss=tf.keras.losses.binary_crossentropy, optimizer='adam', metrics=['accuracy'])\n",
    "\n",
    "hist = model.fit(x=X_train, y=y_train, epochs=EPOCHS, batch_size=BATCH_SIZE, callbacks=list_callbacks, validation_split=0.15)"
   ]
  },
  {
   "cell_type": "code",
   "execution_count": 10,
   "metadata": {},
   "outputs": [
    {
     "name": "stdout",
     "output_type": "stream",
     "text": [
      "Train => [0.08445749979023069, 0.9717135626141838]\n",
      "Test => [0.2561227085007554, 0.9086308687095868]\n"
     ]
    }
   ],
   "source": [
    "print('Train =>', model.evaluate(X_train, y_train, verbose=0))\n",
    "print('Test =>', model.evaluate(X_test, y_test, verbose=0))"
   ]
  },
  {
   "cell_type": "code",
   "execution_count": 11,
   "metadata": {},
   "outputs": [
    {
     "data": {
      "text/plain": [
       "<matplotlib.legend.Legend at 0x1a76221b70>"
      ]
     },
     "execution_count": 11,
     "metadata": {},
     "output_type": "execute_result"
    },
    {
     "data": {
      "image/png": "[encoded data removed]",
      "text/plain": [
       "<Figure size 432x288 with 1 Axes>"
      ]
     },
     "metadata": {
      "needs_background": "light"
     },
     "output_type": "display_data"
    }
   ],
   "source": [
    "hist_dict = hist.history\n",
    "loss_val = hist_dict['val_loss']\n",
    "loss_train = hist_dict['loss']\n",
    "\n",
    "plt.figure()\n",
    "plt.plot(loss_train, label='Train')\n",
    "plt.plot(loss_val, label='Validation')\n",
    "plt.legend()"
   ]
  },
  {
   "cell_type": "code",
   "execution_count": 12,
   "metadata": {},
   "outputs": [
    {
     "data": {
      "text/plain": [
       "<matplotlib.legend.Legend at 0x1a71957710>"
      ]
     },
     "execution_count": 12,
     "metadata": {},
     "output_type": "execute_result"
    },
    {
     "data": {
      "image/png": "[encoded data removed]",
      "text/plain": [
       "<Figure size 432x288 with 1 Axes>"
      ]
     },
     "metadata": {
      "needs_background": "light"
     },
     "output_type": "display_data"
    }
   ],
   "source": [
    "hist_dict = hist.history\n",
    "acc_val = hist_dict['val_acc']\n",
    "acc_train = hist_dict['acc']\n",
    "\n",
    "plt.figure()\n",
    "plt.plot(acc_train, label='Train')\n",
    "plt.plot(acc_val, label='Validation')\n",
    "plt.legend()"
   ]
  }
 ],
 "metadata": {
  "kernelspec": {
   "display_name": "Python 3",
   "language": "python",
   "name": "python3"
  },
  "language_info": {
   "codemirror_mode": {
    "name": "ipython",
    "version": 3
   },
   "file_extension": ".py",
   "mimetype": "text/x-python",
   "name": "python",
   "nbconvert_exporter": "python",
   "pygments_lexer": "ipython3",
   "version": "3.6.5"
  }
 },
 "nbformat": 4,
 "nbformat_minor": 2
}
