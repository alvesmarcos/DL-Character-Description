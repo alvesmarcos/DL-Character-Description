{
 "cells": [
  {
   "cell_type": "markdown",
   "metadata": {},
   "source": [
    "# Preprocessing\n",
    "\n",
    "This note we'll preprocessing our dataset to extract the labels to feed our CNN. The dataset can be find [here](https://susanqq.github.io/UTKFace/).\n",
    "\n",
    "<img src=\"images/dataset.png\" alt=\"UTKFace Dataset\" width=\"740\" height=\"180\" />\n",
    "\n",
    "\n",
    "After extract the zip file move all images to folder **data/**\n",
    "\n",
    "\n",
    "## UTKFace \n",
    "\n",
    "UTKFace dataset is a large-scale face dataset with long age span (range from **0 to 116** years old). The dataset consists of over **20,000** face images with annotations of **age**, **gender**, and **ethnicity**. The images cover large variation in pose, facial expression, illumination, occlusion, resolution, etc. This dataset could be used on a variety of tasks, e.g., face detection, age estimation, age progression/regression, landmark localization, etc. "
   ]
  },
  {
   "cell_type": "markdown",
   "metadata": {},
   "source": [
    "## Setup"
   ]
  },
  {
   "cell_type": "code",
   "execution_count": 58,
   "metadata": {},
   "outputs": [],
   "source": [
    "import numpy as np\n",
    "import matplotlib.pyplot as plt\n",
    "import pickle as pkl\n",
    "from PIL import Image\n",
    "from sklearn.preprocessing import MinMaxScaler\n",
    "from glob import glob\n",
    "import re\n",
    "%matplotlib inline"
   ]
  },
  {
   "cell_type": "markdown",
   "metadata": {},
   "source": [
    "## Data Input"
   ]
  },
  {
   "cell_type": "code",
   "execution_count": 59,
   "metadata": {},
   "outputs": [],
   "source": [
    "def save(obj, name):\n",
    "    with open(name, 'wb') as f:\n",
    "        pkl.dump(obj, f, pkl.HIGHEST_PROTOCOL)\n",
    "\n",
    "def load(name):\n",
    "    with open(name, 'rb') as f:\n",
    "        return pkl.load(f)\n",
    "\n",
    "def extract_labels(_list_images):\n",
    "    '''[age]_[gender]_[race]_[date&time]'''\n",
    "    _list_ret = []\n",
    "    for name in _list_images:\n",
    "        features = name.split('_')\n",
    "        _list_ret.append((features[0], features[1], features[2]))\n",
    "    return _list_ret"
   ]
  },
  {
   "cell_type": "code",
   "execution_count": 60,
   "metadata": {},
   "outputs": [
    {
     "name": "stdout",
     "output_type": "stream",
     "text": [
      "('6', '1', '0')\n",
      "23708\n"
     ]
    }
   ],
   "source": [
    "DATA_PATH = 'data/'\n",
    "files = glob(DATA_PATH+'*.jpg')\n",
    "images = [re.sub('data/', '', re.sub(r'.jpg.chip.jpg', '', x)) for x in files]\n",
    "labels = extract_labels(images)\n",
    "print(labels[np.random.randint(0, len(images))])\n",
    "print(len(images))"
   ]
  },
  {
   "cell_type": "code",
   "execution_count": 54,
   "metadata": {},
   "outputs": [],
   "source": [
    "def images_to_pkl(files, labels, pos, name, max_batch):\n",
    "    X = []\n",
    "    y = []\n",
    "    batch_index = 1\n",
    "    for index, (path, lbl) in enumerate(zip(files, labels)):\n",
    "        image = Image.open(path)\n",
    "        data_x = np.array(image, dtype=np.uint8)\n",
    "        data_y = lbl[pos]\n",
    "        X.append(data_x)\n",
    "        y.append(data_y)\n",
    "        if index == max_batch*batch_index:\n",
    "            save({'X': X, 'y': y }, 'data/{:}/0{:}.pkl'.format(name, batch_index))\n",
    "            X = []\n",
    "            y = []\n",
    "            batch_index += 1\n",
    "    # remaining batch\n",
    "    if len(X) >= 0:\n",
    "        save({'X': X, 'y': y }, 'data/{:}/0{:}.pkl'.format(name, batch_index))\n",
    "        \n",
    "def describe_data(labels, data):\n",
    "    y_pos = np.arange(len(labels))\n",
    "    plt.bar(y_pos, data, align='center')\n",
    "    plt.xticks(y_pos, labels)\n",
    "    plt.ylabel('Length')\n",
    "    plt.title('Data')\n",
    "    plt.show()"
   ]
  },
  {
   "cell_type": "markdown",
   "metadata": {},
   "source": [
    "### Data Gender"
   ]
  },
  {
   "cell_type": "code",
   "execution_count": 23,
   "metadata": {},
   "outputs": [],
   "source": [
    "images_to_pkl(files, labels, 1, 'gender', 5000)"
   ]
  },
  {
   "cell_type": "code",
   "execution_count": 61,
   "metadata": {},
   "outputs": [
    {
     "name": "stdout",
     "output_type": "stream",
     "text": [
      "['data/gender/02.pkl', 'data/gender/03.pkl', 'data/gender/01.pkl', 'data/gender/04.pkl', 'data/gender/05.pkl']\n",
      "5000 5000\n",
      "[[[75 57 57]\n",
      "  [70 52 52]\n",
      "  [66 48 48]\n",
      "  ...\n",
      "  [ 0  0  0]\n",
      "  [ 0  1  0]\n",
      "  [ 0  2  1]]\n",
      "\n",
      " [[72 54 54]\n",
      "  [70 52 52]\n",
      "  [68 50 50]\n",
      "  ...\n",
      "  [ 0  0  0]\n",
      "  [ 0  1  0]\n",
      "  [ 0  2  1]]\n",
      "\n",
      " [[69 51 51]\n",
      "  [70 52 52]\n",
      "  [72 54 54]\n",
      "  ...\n",
      "  [ 0  0  0]\n",
      "  [ 0  0  0]\n",
      "  [ 0  2  1]]\n",
      "\n",
      " ...\n",
      "\n",
      " [[11 12  7]\n",
      "  [ 9 10  5]\n",
      "  [ 5  5  3]\n",
      "  ...\n",
      "  [ 1  1  1]\n",
      "  [ 2  2  2]\n",
      "  [ 1  1  1]]\n",
      "\n",
      " [[ 8  9  4]\n",
      "  [ 6  7  2]\n",
      "  [ 4  4  2]\n",
      "  ...\n",
      "  [ 1  1  1]\n",
      "  [ 2  2  2]\n",
      "  [ 2  2  2]]\n",
      "\n",
      " [[ 7  8  3]\n",
      "  [ 6  7  2]\n",
      "  [ 4  4  2]\n",
      "  ...\n",
      "  [ 1  1  1]\n",
      "  [ 2  2  2]\n",
      "  [ 2  2  2]]]\n",
      "1\n"
     ]
    }
   ],
   "source": [
    "gender_data = glob('data/gender/*.pkl')\n",
    "batch_gender = load(gender_data[np.random.randint(len(gender_data))])\n",
    "gender_x, gender_y = len(batch_gender['X']), len(batch_gender['y'])\n",
    "print(gender_data)\n",
    "print(gender_x, gender_y)\n",
    "print(batch_gender['X'][np.random.randint(gender_x)])\n",
    "print(batch_gender['y'][np.random.randint(gender_y)])"
   ]
  },
  {
   "cell_type": "code",
   "execution_count": 63,
   "metadata": {},
   "outputs": [
    {
     "data": {
      "image/png": "[encoded data removed]",
      "text/plain": [
       "<Figure size 432x288 with 1 Axes>"
      ]
     },
     "metadata": {
      "needs_background": "light"
     },
     "output_type": "display_data"
    },
    {
     "name": "stdout",
     "output_type": "stream",
     "text": [
      "[12391, 11317]\n"
     ]
    }
   ],
   "source": [
    "count = [0,0]\n",
    "for file in gender_data:\n",
    "    data = load(file)\n",
    "    if data != None:\n",
    "        for label in data['y']:\n",
    "            if int(label) == 0:\n",
    "                count[0] += 1\n",
    "            else:\n",
    "                count[1] += 1\n",
    "describe_data(('Male', 'Female'), count)\n",
    "print(count)"
   ]
  },
  {
   "cell_type": "code",
   "execution_count": null,
   "metadata": {},
   "outputs": [],
   "source": []
  }
 ],
 "metadata": {
  "kernelspec": {
   "display_name": "Python 3",
   "language": "python",
   "name": "python3"
  },
  "language_info": {
   "codemirror_mode": {
    "name": "ipython",
    "version": 3
   },
   "file_extension": ".py",
   "mimetype": "text/x-python",
   "name": "python",
   "nbconvert_exporter": "python",
   "pygments_lexer": "ipython3",
   "version": "3.6.5"
  }
 },
 "nbformat": 4,
 "nbformat_minor": 2
}
