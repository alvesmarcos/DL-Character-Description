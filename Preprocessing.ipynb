{
  "nbformat": 4,
  "nbformat_minor": 0,
  "metadata": {
    "colab": {
      "name": "Preprocessing.ipynb",
      "version": "0.3.2",
      "provenance": [],
      "collapsed_sections": []
    },
    "language_info": {
      "codemirror_mode": {
        "name": "ipython",
        "version": 3
      },
      "file_extension": ".py",
      "mimetype": "text/x-python",
      "name": "python",
      "nbconvert_exporter": "python",
      "pygments_lexer": "ipython3",
      "version": "3.6.5"
    },
    "kernelspec": {
      "name": "python3",
      "display_name": "Python 3"
    },
    "accelerator": "GPU"
  },
  "cells": [
    {
      "cell_type": "markdown",
      "metadata": {
        "id": "kU8169KL2IF6",
        "colab_type": "text"
      },
      "source": [
        "# Preprocessing\n",
        "\n",
        "This note we'll preprocessing our dataset to extract the labels to feed our CNN. The dataset can be find [here](https://susanqq.github.io/UTKFace/).\n",
        "\n",
        "<img src=\"images/dataset.png\" alt=\"UTKFace Dataset\" width=\"740\" height=\"180\" />\n",
        "\n",
        "\n",
        "After extract the zip file move all images to folder **data/**\n",
        "\n",
        "\n",
        "## UTKFace \n",
        "\n",
        "UTKFace dataset is a large-scale face dataset with long age span (range from **0 to 116** years old). The dataset consists of over **20,000** face images with annotations of **age**, **gender**, and **ethnicity**. The images cover large variation in pose, facial expression, illumination, occlusion, resolution, etc. This dataset could be used on a variety of tasks, e.g., face detection, age estimation, age progression/regression, landmark localization, etc. "
      ]
    },
    {
      "cell_type": "markdown",
      "metadata": {
        "id": "10RR2KGi2IF7",
        "colab_type": "text"
      },
      "source": [
        "## Setup"
      ]
    },
    {
      "cell_type": "code",
      "metadata": {
        "id": "IDH3yPc32iHm",
        "colab_type": "code",
        "outputId": "be9d492f-5378-4c72-f324-cbac4f253cf2",
        "colab": {
          "base_uri": "https://localhost:8080/",
          "height": 34
        }
      },
      "source": [
        "from google.colab import drive\n",
        "drive.mount('/content/drive')"
      ],
      "execution_count": 18,
      "outputs": [
        {
          "output_type": "stream",
          "text": [
            "Drive already mounted at /content/drive; to attempt to forcibly remount, call drive.mount(\"/content/drive\", force_remount=True).\n"
          ],
          "name": "stdout"
        }
      ]
    },
    {
      "cell_type": "code",
      "metadata": {
        "id": "YBR5UqYi2mVJ",
        "colab_type": "code",
        "outputId": "2c45d649-3c42-423e-c0dc-cdf202e5a68b",
        "colab": {
          "base_uri": "https://localhost:8080/",
          "height": 85
        }
      },
      "source": [
        "%cd '/content/drive/My Drive/Colab Notebooks/DL-Character-Description'\n",
        "!ls"
      ],
      "execution_count": 19,
      "outputs": [
        {
          "output_type": "stream",
          "text": [
            "/content/drive/My Drive/Colab Notebooks/DL-Character-Description\n",
            "Age_Model.ipynb        Gender_Model.ipynb  models\t\tutils\n",
            "data\t\t       images\t\t   Preprocessing.ipynb\twebcam.py\n",
            "Ethnicity_Model.ipynb  input\t\t   README.md\n"
          ],
          "name": "stdout"
        }
      ]
    },
    {
      "cell_type": "code",
      "metadata": {
        "id": "FMMIG9872IF8",
        "colab_type": "code",
        "colab": {}
      },
      "source": [
        "import numpy as np\n",
        "import matplotlib.pyplot as plt\n",
        "import pickle as pkl\n",
        "from PIL import Image\n",
        "from sklearn.preprocessing import MinMaxScaler\n",
        "from glob import glob\n",
        "from utils.helpers import load, save\n",
        "import re\n",
        "%matplotlib inline"
      ],
      "execution_count": 0,
      "outputs": []
    },
    {
      "cell_type": "markdown",
      "metadata": {
        "id": "Q0vlTyLk2IF_",
        "colab_type": "text"
      },
      "source": [
        "## Data Input"
      ]
    },
    {
      "cell_type": "markdown",
      "metadata": {
        "id": "Hc2t-5eg4eAL",
        "colab_type": "text"
      },
      "source": [
        "### Helpers Functions"
      ]
    },
    {
      "cell_type": "code",
      "metadata": {
        "id": "ohpetCK-2IGA",
        "colab_type": "code",
        "colab": {}
      },
      "source": [
        "def extract_labels(_list_images):\n",
        "    '''[age]_[gender]_[race]_[date&time]'''\n",
        "    _list_ret = []\n",
        "    for name in _list_images:\n",
        "        features = name.split('_')\n",
        "        _list_ret.append((features[0], features[1], features[2]))\n",
        "    return _list_ret"
      ],
      "execution_count": 0,
      "outputs": []
    },
    {
      "cell_type": "code",
      "metadata": {
        "id": "bygK06S34Dye",
        "colab_type": "code",
        "colab": {}
      },
      "source": [
        "def images_to_pkl(files, labels, pos, name, max_batch, callback=None):\n",
        "    X = []\n",
        "    y = []\n",
        "    batch_index = 1\n",
        "    for index, (path, lbl) in enumerate(zip(files, labels)):\n",
        "        image = Image.open(path)\n",
        "        image = image.resize((128,128), Image.LANCZOS)\n",
        "        data_x = np.array(image, dtype=np.float32)\n",
        "        data_x /= 255\n",
        "        data_y = lbl[pos] if callback == None else callback(lbl[pos])\n",
        "        if data_y == None:\n",
        "            continue\n",
        "        X.append(data_x)\n",
        "        y.append(data_y)\n",
        "        if index == max_batch*batch_index:\n",
        "            save({'X': X, 'y': y }, 'input/0{:}.{:}.pkl'.format(batch_index, name))\n",
        "            X = []\n",
        "            y = []\n",
        "            print('Save Batch, Index => {:}'.format(batch_index))\n",
        "            batch_index += 1\n",
        "    # remaining batch\n",
        "    if len(X) >= 0:\n",
        "        save({'X': X, 'y': y }, 'input/0{:}.{:}.pkl'.format(batch_index, name))"
      ],
      "execution_count": 0,
      "outputs": []
    },
    {
      "cell_type": "code",
      "metadata": {
        "id": "YbqZShIu4F4V",
        "colab_type": "code",
        "colab": {}
      },
      "source": [
        "def describe_data(labels, data):\n",
        "    y_pos = np.arange(len(labels))\n",
        "    plt.bar(y_pos, data, align='center')\n",
        "    plt.xticks(y_pos, labels)\n",
        "    plt.ylabel('Length')\n",
        "    plt.title('Data')\n",
        "    plt.show()"
      ],
      "execution_count": 0,
      "outputs": []
    },
    {
      "cell_type": "markdown",
      "metadata": {
        "id": "entCmjqB4SCR",
        "colab_type": "text"
      },
      "source": [
        "### Extract labels from Images"
      ]
    },
    {
      "cell_type": "code",
      "metadata": {
        "id": "ZyJiJFII-Oxg",
        "colab_type": "code",
        "outputId": "db077bd1-6cb3-40f3-d104-83cb0bf2769c",
        "colab": {
          "base_uri": "https://localhost:8080/",
          "height": 51
        }
      },
      "source": [
        "DATA_PATH = 'data/'\n",
        "files = glob(DATA_PATH+'*.jpg')\n",
        "images = [re.sub('data/', '', re.sub(r'.jpg.chip.jpg', '', x)) for x in files]\n",
        "labels = extract_labels(images)\n",
        "print(labels[np.random.randint(0, len(images))])\n",
        "print(len(images))"
      ],
      "execution_count": 24,
      "outputs": [
        {
          "output_type": "stream",
          "text": [
            "('40', '0', '4')\n",
            "23708\n"
          ],
          "name": "stdout"
        }
      ]
    },
    {
      "cell_type": "markdown",
      "metadata": {
        "id": "PxDEN2dV2IGK",
        "colab_type": "text"
      },
      "source": [
        "### Data Gender"
      ]
    },
    {
      "cell_type": "code",
      "metadata": {
        "id": "7yQHrb_h2IGL",
        "colab_type": "code",
        "outputId": "487243ac-dd22-43f1-e601-dc7de6c2fb79",
        "colab": {
          "base_uri": "https://localhost:8080/",
          "height": 204
        }
      },
      "source": [
        "images_to_pkl(files, labels, 1, 'gender', 2000)"
      ],
      "execution_count": 25,
      "outputs": [
        {
          "output_type": "stream",
          "text": [
            "Save Batch, Index => 1\n",
            "Save Batch, Index => 2\n",
            "Save Batch, Index => 3\n",
            "Save Batch, Index => 4\n",
            "Save Batch, Index => 5\n",
            "Save Batch, Index => 6\n",
            "Save Batch, Index => 7\n",
            "Save Batch, Index => 8\n",
            "Save Batch, Index => 9\n",
            "Save Batch, Index => 10\n",
            "Save Batch, Index => 11\n"
          ],
          "name": "stdout"
        }
      ]
    },
    {
      "cell_type": "code",
      "metadata": {
        "id": "rlJ6ssi02IGN",
        "colab_type": "code",
        "colab": {
          "base_uri": "https://localhost:8080/",
          "height": 71
        },
        "outputId": "0a4b19fa-f6a4-4616-90ef-caa4e2d0c4af"
      },
      "source": [
        "gender_data = glob('input/*.gender.pkl')\n",
        "batch_gender = load(gender_data[np.random.randint(len(gender_data))])\n",
        "gender_x, gender_y = len(batch_gender['X']), len(batch_gender['y'])\n",
        "print(gender_data)\n",
        "print(gender_x, gender_y)"
      ],
      "execution_count": 26,
      "outputs": [
        {
          "output_type": "stream",
          "text": [
            "['input/01.gender.pkl', 'input/02.gender.pkl', 'input/03.gender.pkl', 'input/04.gender.pkl', 'input/05.gender.pkl', 'input/06.gender.pkl', 'input/07.gender.pkl', 'input/08.gender.pkl', 'input/09.gender.pkl', 'input/010.gender.pkl', 'input/011.gender.pkl', 'input/012.gender.pkl']\n",
            "2000 2000\n"
          ],
          "name": "stdout"
        }
      ]
    },
    {
      "cell_type": "code",
      "metadata": {
        "id": "lh78d1bG2IGR",
        "colab_type": "code",
        "colab": {}
      },
      "source": [
        "def get_counter_gender(gender_data):\n",
        "  count = [0,0]\n",
        "  for file in gender_data:\n",
        "      data = load(file)\n",
        "      if data != None:\n",
        "          for label in data['y']:\n",
        "            count[int(label)] += 1\n",
        "  return count"
      ],
      "execution_count": 0,
      "outputs": []
    },
    {
      "cell_type": "code",
      "metadata": {
        "id": "9AvUq_0_2IGU",
        "colab_type": "code",
        "outputId": "5a3a7eb8-055b-481b-b514-bed1d69f3511",
        "colab": {
          "base_uri": "https://localhost:8080/",
          "height": 298
        }
      },
      "source": [
        "counter_gender = get_counter_gender(gender_data)\n",
        "describe_data(('Male', 'Female'), counter_gender)\n",
        "print(counter_gender)"
      ],
      "execution_count": 31,
      "outputs": [
        {
          "output_type": "display_data",
          "data": {
            "image/png": "[encoded data removed]",
            "text/plain": [
              "<Figure size 432x288 with 1 Axes>"
            ]
          },
          "metadata": {
            "tags": []
          }
        },
        {
          "output_type": "stream",
          "text": [
            "[12391, 11317]\n"
          ],
          "name": "stdout"
        }
      ]
    },
    {
      "cell_type": "markdown",
      "metadata": {
        "id": "OTJP6Qif2IGZ",
        "colab_type": "text"
      },
      "source": [
        "### Data Age"
      ]
    },
    {
      "cell_type": "code",
      "metadata": {
        "id": "Rv099dZW2IGa",
        "colab_type": "code",
        "colab": {}
      },
      "source": [
        "AGE_RANGE = ['(0, 2)', '(4, 6)', '(8, 13)', '(15, 20)', '(25, 32)', '(38, 43)', '(48, 53)', '(60, 100)']"
      ],
      "execution_count": 0,
      "outputs": []
    },
    {
      "cell_type": "code",
      "metadata": {
        "id": "SJkCKzrF2IGc",
        "colab_type": "code",
        "colab": {}
      },
      "source": [
        "def age_to_range(age):\n",
        "    age = int(age)\n",
        "    if age >= 0 and age <= 2:\n",
        "        return 0\n",
        "    elif age >= 4 and age <= 6:\n",
        "        return 1\n",
        "    elif age >= 8 and age <= 13:\n",
        "        return 2\n",
        "    elif age >= 15 and age <= 20:\n",
        "        return 3\n",
        "    elif age >= 25 and age <= 32:\n",
        "        return 4\n",
        "    elif age >= 38 and age <= 43:\n",
        "        return 5\n",
        "    elif age >= 48 and age <= 53:\n",
        "        return 6\n",
        "    elif age >= 60 and age <= 100:\n",
        "        return 7\n",
        "    else:\n",
        "        return None"
      ],
      "execution_count": 0,
      "outputs": []
    },
    {
      "cell_type": "code",
      "metadata": {
        "id": "f2eO5xKQ2IGe",
        "colab_type": "code",
        "colab": {}
      },
      "source": [
        "images_to_pkl(files=files, labels=labels, pos=0, name='age', max_batch=5000, callback=age_to_range)"
      ],
      "execution_count": 0,
      "outputs": []
    },
    {
      "cell_type": "code",
      "metadata": {
        "id": "210KgXwZ2IGh",
        "colab_type": "code",
        "outputId": "41e32a50-b952-4998-da5c-f2e3e0a61ef4",
        "colab": {}
      },
      "source": [
        "age_data_range = glob('data/*.age.pkl')\n",
        "batch_age_range = load(age_data_range[np.random.randint(len(age_data_range))])\n",
        "age_range_x, age_range_y = len(batch_age_range['X']), len(batch_age_range['y'])\n",
        "print(age_data_range)\n",
        "print(age_range_x, age_range_y)\n",
        "print(batch_age_range['X'][np.random.randint(age_range_x)])\n",
        "print(batch_age_range['y'][np.random.randint(age_range_y)])"
      ],
      "execution_count": 0,
      "outputs": [
        {
          "output_type": "stream",
          "text": [
            "['data/03.age.pkl', 'data/02.age.pkl', 'data/01.age.pkl', 'data/04.age.pkl', 'data/05.age.pkl']\n",
            "3530 3530\n",
            "[[[0.8156863  0.7019608  0.60784316]\n",
            "  [0.7882353  0.67058825 0.57254905]\n",
            "  [0.80784315 0.6784314  0.5764706 ]\n",
            "  ...\n",
            "  [0.9529412  0.8392157  0.7764706 ]\n",
            "  [0.9529412  0.8392157  0.7764706 ]\n",
            "  [0.95686275 0.84313726 0.78039217]]\n",
            "\n",
            " [[0.81960785 0.7019608  0.60784316]\n",
            "  [0.78431374 0.6627451  0.5686275 ]\n",
            "  [0.8        0.67058825 0.5686275 ]\n",
            "  ...\n",
            "  [0.95686275 0.84313726 0.78039217]\n",
            "  [0.9529412  0.8392157  0.7764706 ]\n",
            "  [0.9529412  0.8392157  0.7764706 ]]\n",
            "\n",
            " [[0.8352941  0.7176471  0.62352943]\n",
            "  [0.7882353  0.67058825 0.57254905]\n",
            "  [0.8039216  0.67058825 0.5686275 ]\n",
            "  ...\n",
            "  [0.9607843  0.84705883 0.78431374]\n",
            "  [0.95686275 0.84313726 0.78039217]\n",
            "  [0.9490196  0.8352941  0.77254903]]\n",
            "\n",
            " ...\n",
            "\n",
            " [[0.85882354 0.6039216  0.5176471 ]\n",
            "  [0.80784315 0.5568628  0.42352942]\n",
            "  [0.8039216  0.56078434 0.36862746]\n",
            "  ...\n",
            "  [0.90588236 0.6745098  0.5137255 ]\n",
            "  [0.92156863 0.6901961  0.53333336]\n",
            "  [0.9254902  0.69803923 0.54509807]]\n",
            "\n",
            " [[0.85490197 0.6039216  0.5137255 ]\n",
            "  [0.8        0.5529412  0.41568628]\n",
            "  [0.79607844 0.54901963 0.35686275]\n",
            "  ...\n",
            "  [0.89411765 0.6627451  0.5019608 ]\n",
            "  [0.90588236 0.6784314  0.52156866]\n",
            "  [0.9098039  0.68235296 0.5294118 ]]\n",
            "\n",
            " [[0.85490197 0.6039216  0.5137255 ]\n",
            "  [0.79607844 0.54901963 0.41568628]\n",
            "  [0.7921569  0.54509807 0.3529412 ]\n",
            "  ...\n",
            "  [0.88235295 0.6509804  0.49411765]\n",
            "  [0.8980392  0.67058825 0.5137255 ]\n",
            "  [0.90588236 0.6784314  0.5254902 ]]]\n",
            "4\n"
          ],
          "name": "stdout"
        }
      ]
    },
    {
      "cell_type": "code",
      "metadata": {
        "id": "M5sVPMx12IGk",
        "colab_type": "code",
        "colab": {}
      },
      "source": [
        "count = [0 for i in range(len(AGE_RANGE))]\n",
        "for file in age_data_range:\n",
        "    data = load(file)\n",
        "    if data != None:\n",
        "        for label in data['y']:\n",
        "            count[label] += 1"
      ],
      "execution_count": 0,
      "outputs": []
    },
    {
      "cell_type": "code",
      "metadata": {
        "id": "-ILuHfoM2IGm",
        "colab_type": "code",
        "outputId": "36153474-1f4e-4801-c70d-74c83258cb2a",
        "colab": {}
      },
      "source": [
        "describe_data(AGE_RANGE, count)\n",
        "print(count)\n",
        "print(np.sum(count))"
      ],
      "execution_count": 0,
      "outputs": [
        {
          "output_type": "display_data",
          "data": {
            "image/png": "[encoded data removed]",
            "text/plain": [
              "<Figure size 432x288 with 1 Axes>"
            ]
          },
          "metadata": {
            "tags": [],
            "needs_background": "light"
          }
        },
        {
          "output_type": "stream",
          "text": [
            "[1605, 600, 861, 1226, 6772, 1672, 1293, 2669]\n",
            "16698\n"
          ],
          "name": "stdout"
        }
      ]
    },
    {
      "cell_type": "markdown",
      "metadata": {
        "id": "r9bWkpOV2IGq",
        "colab_type": "text"
      },
      "source": [
        "## Ethnicity"
      ]
    },
    {
      "cell_type": "code",
      "metadata": {
        "id": "Q8VJn4gM2IGr",
        "colab_type": "code",
        "colab": {}
      },
      "source": [
        "def validate(label):\n",
        "    value = int(label)\n",
        "    return None if value >= 5 else value"
      ],
      "execution_count": 0,
      "outputs": []
    },
    {
      "cell_type": "code",
      "metadata": {
        "id": "n0MGawus2IGu",
        "colab_type": "code",
        "colab": {}
      },
      "source": [
        "images_to_pkl(files, labels, 2, 'ethnicity', 5000, callback=validate)"
      ],
      "execution_count": 0,
      "outputs": []
    },
    {
      "cell_type": "code",
      "metadata": {
        "id": "xqOPt9IA2IGx",
        "colab_type": "code",
        "outputId": "f16f73c3-e54d-4fed-8e3e-cc0aa2774382",
        "colab": {}
      },
      "source": [
        "ethnicity_data = glob('data/*.ethnicity.pkl')\n",
        "batch_ethnicity = load(ethnicity_data[np.random.randint(len(ethnicity_data))])\n",
        "ethnicity_x, ethnicity_y = len(batch_ethnicity['X']), len(batch_ethnicity['y'])\n",
        "print(ethnicity_data)\n",
        "print(ethnicity_x, ethnicity_y)\n",
        "print(batch_ethnicity['X'][np.random.randint(ethnicity_x)])\n",
        "print(batch_ethnicity['y'][np.random.randint(ethnicity_y)])"
      ],
      "execution_count": 0,
      "outputs": [
        {
          "output_type": "stream",
          "text": [
            "['data/05.ethnicity.pkl', 'data/01.ethnicity.pkl', 'data/02.ethnicity.pkl', 'data/03.ethnicity.pkl', 'data/04.ethnicity.pkl']\n",
            "5001 5001\n",
            "[[[0.05490196 0.01960784 0.        ]\n",
            "  [0.10196079 0.0627451  0.03529412]\n",
            "  [0.16078432 0.10588235 0.07450981]\n",
            "  ...\n",
            "  [0.         0.         0.        ]\n",
            "  [0.         0.         0.        ]\n",
            "  [0.         0.         0.        ]]\n",
            "\n",
            " [[0.07843138 0.04313726 0.01568628]\n",
            "  [0.13725491 0.09411765 0.07058824]\n",
            "  [0.19215687 0.13725491 0.10588235]\n",
            "  ...\n",
            "  [0.         0.         0.        ]\n",
            "  [0.         0.         0.        ]\n",
            "  [0.         0.         0.        ]]\n",
            "\n",
            " [[0.10980392 0.07058824 0.04705882]\n",
            "  [0.1764706  0.13333334 0.10980392]\n",
            "  [0.22745098 0.16862746 0.14117648]\n",
            "  ...\n",
            "  [0.         0.         0.        ]\n",
            "  [0.         0.         0.        ]\n",
            "  [0.         0.         0.        ]]\n",
            "\n",
            " ...\n",
            "\n",
            " [[0.01568628 0.01568628 0.04705882]\n",
            "  [0.00392157 0.         0.02745098]\n",
            "  [0.01568628 0.00392157 0.01568628]\n",
            "  ...\n",
            "  [0.00392157 0.00392157 0.04313726]\n",
            "  [0.00392157 0.00392157 0.04313726]\n",
            "  [0.00392157 0.00392157 0.04313726]]\n",
            "\n",
            " [[0.03921569 0.03529412 0.07450981]\n",
            "  [0.03921569 0.03137255 0.0627451 ]\n",
            "  [0.07058824 0.05490196 0.07058824]\n",
            "  ...\n",
            "  [0.00392157 0.00392157 0.04313726]\n",
            "  [0.00392157 0.00392157 0.04313726]\n",
            "  [0.00392157 0.00392157 0.04313726]]\n",
            "\n",
            " [[0.0627451  0.05098039 0.09803922]\n",
            "  [0.08627451 0.07058824 0.10980392]\n",
            "  [0.15294118 0.12941177 0.14901961]\n",
            "  ...\n",
            "  [0.00392157 0.00392157 0.04313726]\n",
            "  [0.00392157 0.00392157 0.04313726]\n",
            "  [0.00392157 0.00392157 0.04313726]]]\n",
            "0\n"
          ],
          "name": "stdout"
        }
      ]
    },
    {
      "cell_type": "code",
      "metadata": {
        "id": "gV1mbUfX2IG2",
        "colab_type": "code",
        "colab": {}
      },
      "source": [
        "count = [0 for i in range(5)]\n",
        "for file in ethnicity_data:\n",
        "    data = load(file)\n",
        "    if data != None:\n",
        "        for label in data['y']:\n",
        "            count[int(label)] += 1"
      ],
      "execution_count": 0,
      "outputs": []
    },
    {
      "cell_type": "code",
      "metadata": {
        "id": "rg9Vq1vM2IG6",
        "colab_type": "code",
        "outputId": "d566c878-12fa-4e62-8563-bbc5901ffc44",
        "colab": {}
      },
      "source": [
        "describe_data(('White', 'Black', 'Asian', 'Indian', 'Others'), count)\n",
        "print(count)\n",
        "print(np.sum(count))"
      ],
      "execution_count": 0,
      "outputs": [
        {
          "output_type": "display_data",
          "data": {
            "image/png": "[encoded data removed]",
            "text/plain": [
              "<Figure size 432x288 with 1 Axes>"
            ]
          },
          "metadata": {
            "tags": [],
            "needs_background": "light"
          }
        },
        {
          "output_type": "stream",
          "text": [
            "[10078, 4526, 3434, 3975, 1692]\n",
            "23705\n"
          ],
          "name": "stdout"
        }
      ]
    }
  ]
}