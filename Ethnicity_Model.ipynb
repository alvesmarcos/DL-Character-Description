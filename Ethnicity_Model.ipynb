{
 "cells": [
  {
   "cell_type": "markdown",
   "metadata": {},
   "source": [
    "# Ethnicity Model\n",
    "\n",
    "This note we'll build a CNN to classify the ethnicity problem. To build our CNN we'll use [tensorflow](https://www.tensorflow.org/)"
   ]
  },
  {
   "cell_type": "markdown",
   "metadata": {},
   "source": [
    "## Setup"
   ]
  },
  {
   "cell_type": "code",
   "execution_count": 1,
   "metadata": {},
   "outputs": [],
   "source": [
    "import tensorflow as tf\n",
    "import numpy as np\n",
    "import matplotlib.pyplot as plt\n",
    "import tensorflow as tf\n",
    "from utils.helpers import unwrapper_data\n",
    "from sklearn.model_selection import train_test_split\n",
    "from glob import glob\n",
    "%matplotlib inline"
   ]
  },
  {
   "cell_type": "markdown",
   "metadata": {},
   "source": [
    "## Data"
   ]
  },
  {
   "cell_type": "code",
   "execution_count": 2,
   "metadata": {},
   "outputs": [
    {
     "name": "stdout",
     "output_type": "stream",
     "text": [
      "['data/05.ethnicity.pkl', 'data/01.ethnicity.pkl', 'data/02.ethnicity.pkl', 'data/03.ethnicity.pkl', 'data/04.ethnicity.pkl']\n"
     ]
    }
   ],
   "source": [
    "DATA_PATH = 'data/'\n",
    "data = glob(DATA_PATH+'*.ethnicity.pkl')\n",
    "print(data)"
   ]
  },
  {
   "cell_type": "markdown",
   "metadata": {},
   "source": [
    "## Model"
   ]
  },
  {
   "cell_type": "code",
   "execution_count": 3,
   "metadata": {},
   "outputs": [
    {
     "name": "stdout",
     "output_type": "stream",
     "text": [
      "_________________________________________________________________\n",
      "Layer (type)                 Output Shape              Param #   \n",
      "=================================================================\n",
      "conv2d (Conv2D)              (None, 50, 50, 64)        1792      \n",
      "_________________________________________________________________\n",
      "batch_normalization (BatchNo (None, 50, 50, 64)        256       \n",
      "_________________________________________________________________\n",
      "activation (Activation)      (None, 50, 50, 64)        0         \n",
      "_________________________________________________________________\n",
      "max_pooling2d (MaxPooling2D) (None, 25, 25, 64)        0         \n",
      "_________________________________________________________________\n",
      "conv2d_1 (Conv2D)            (None, 25, 25, 128)       73856     \n",
      "_________________________________________________________________\n",
      "batch_normalization_1 (Batch (None, 25, 25, 128)       512       \n",
      "_________________________________________________________________\n",
      "activation_1 (Activation)    (None, 25, 25, 128)       0         \n",
      "_________________________________________________________________\n",
      "max_pooling2d_1 (MaxPooling2 (None, 13, 13, 128)       0         \n",
      "_________________________________________________________________\n",
      "conv2d_2 (Conv2D)            (None, 13, 13, 256)       295168    \n",
      "_________________________________________________________________\n",
      "batch_normalization_2 (Batch (None, 13, 13, 256)       1024      \n",
      "_________________________________________________________________\n",
      "activation_2 (Activation)    (None, 13, 13, 256)       0         \n",
      "_________________________________________________________________\n",
      "max_pooling2d_2 (MaxPooling2 (None, 7, 7, 256)         0         \n",
      "_________________________________________________________________\n",
      "flatten (Flatten)            (None, 12544)             0         \n",
      "_________________________________________________________________\n",
      "dense (Dense)                (None, 256)               3211520   \n",
      "_________________________________________________________________\n",
      "dropout (Dropout)            (None, 256)               0         \n",
      "_________________________________________________________________\n",
      "dense_1 (Dense)              (None, 256)               65792     \n",
      "_________________________________________________________________\n",
      "dropout_1 (Dropout)          (None, 256)               0         \n",
      "_________________________________________________________________\n",
      "dense_2 (Dense)              (None, 5)                 1285      \n",
      "=================================================================\n",
      "Total params: 3,651,205\n",
      "Trainable params: 3,650,309\n",
      "Non-trainable params: 896\n",
      "_________________________________________________________________\n"
     ]
    }
   ],
   "source": [
    "model = tf.keras.Sequential([\n",
    "    tf.keras.layers.Conv2D(filters=64, kernel_size=(3,3), strides=(2,2), padding='same', input_shape=(100,100,3)),\n",
    "    tf.keras.layers.BatchNormalization(axis=3),\n",
    "    tf.keras.layers.Activation('relu'),\n",
    "    tf.keras.layers.MaxPooling2D(pool_size=(2,2), strides=(2,2), padding='same'),\n",
    "    tf.keras.layers.Conv2D(filters=128, kernel_size=(3,3), strides=(1,1), padding='same'),\n",
    "    tf.keras.layers.BatchNormalization(axis=3),\n",
    "    tf.keras.layers.Activation('relu'),\n",
    "    tf.keras.layers.MaxPooling2D(pool_size=(2,2), strides=(2,2), padding='same'),\n",
    "    tf.keras.layers.Conv2D(filters=256, kernel_size=(3,3), strides=(1,1), padding='same'),\n",
    "    tf.keras.layers.BatchNormalization(axis=3),\n",
    "    tf.keras.layers.Activation('relu'),\n",
    "    tf.keras.layers.MaxPooling2D(pool_size=(2,2), strides=(2,2), padding='same'),\n",
    "    tf.keras.layers.Flatten(),\n",
    "    tf.keras.layers.Dense(units=256, activation='relu'),\n",
    "    tf.keras.layers.Dropout(rate=0.5),\n",
    "    tf.keras.layers.Dense(units=256, activation='relu'),\n",
    "    tf.keras.layers.Dropout(rate=0.5),\n",
    "    tf.keras.layers.Dense(units=5, activation='softmax')\n",
    "])\n",
    "model.summary()"
   ]
  },
  {
   "cell_type": "markdown",
   "metadata": {},
   "source": [
    "## Input"
   ]
  },
  {
   "cell_type": "code",
   "execution_count": 4,
   "metadata": {},
   "outputs": [
    {
     "name": "stdout",
     "output_type": "stream",
     "text": [
      "0.48104745\n"
     ]
    }
   ],
   "source": [
    "X, y = unwrapper_data(data)\n",
    "mean_x = np.mean(X)\n",
    "for i, _ in enumerate(X):\n",
    "    X[i] -= mean_x\n",
    "print(mean_x)"
   ]
  },
  {
   "cell_type": "code",
   "execution_count": 5,
   "metadata": {},
   "outputs": [
    {
     "data": {
      "text/plain": [
       "((20149, 100, 100, 3), (3556, 100, 100, 3), (20149,), (3556,))"
      ]
     },
     "execution_count": 5,
     "metadata": {},
     "output_type": "execute_result"
    }
   ],
   "source": [
    "X_train, X_test, y_train, y_test = train_test_split(X, y, test_size=0.15)\n",
    "\n",
    "y_oh_train = tf.keras.utils.to_categorical(y=y_train, num_classes=5).astype(np.uint8)\n",
    "y_oh_test =  tf.keras.utils.to_categorical(y=y_test, num_classes=5).astype(np.uint8)\n",
    "\n",
    "X_train.shape, X_test.shape, y_train.shape, y_test.shape"
   ]
  },
  {
   "cell_type": "markdown",
   "metadata": {},
   "source": [
    "## Training"
   ]
  },
  {
   "cell_type": "code",
   "execution_count": 7,
   "metadata": {},
   "outputs": [],
   "source": [
    "BATCH_SIZE = 64\n",
    "EPOCHS = 100"
   ]
  },
  {
   "cell_type": "code",
   "execution_count": 8,
   "metadata": {},
   "outputs": [
    {
     "name": "stdout",
     "output_type": "stream",
     "text": [
      "Train on 17126 samples, validate on 3023 samples\n",
      "Epoch 1/100\n",
      "17088/17126 [============================>.] - ETA: 0s - loss: 1.6627 - acc: 0.4295\n",
      "Epoch 00001: val_loss improved from inf to 1.46678, saving model to models/best_model_ethnicity.hdf5\n",
      "17126/17126 [==============================] - 274s 16ms/step - loss: 1.6621 - acc: 0.4297 - val_loss: 1.4668 - val_acc: 0.4059\n",
      "Epoch 2/100\n",
      "17088/17126 [============================>.] - ETA: 0s - loss: 1.3892 - acc: 0.4704\n",
      "Epoch 00002: val_loss improved from 1.46678 to 1.30014, saving model to models/best_model_ethnicity.hdf5\n",
      "17126/17126 [==============================] - 294s 17ms/step - loss: 1.3892 - acc: 0.4703 - val_loss: 1.3001 - val_acc: 0.5104\n",
      "Epoch 3/100\n",
      "17088/17126 [============================>.] - ETA: 0s - loss: 1.3482 - acc: 0.4965\n",
      "Epoch 00003: val_loss improved from 1.30014 to 1.29966, saving model to models/best_model_ethnicity.hdf5\n",
      "17126/17126 [==============================] - 291s 17ms/step - loss: 1.3480 - acc: 0.4966 - val_loss: 1.2997 - val_acc: 0.5230\n",
      "Epoch 4/100\n",
      "17088/17126 [============================>.] - ETA: 0s - loss: 1.3046 - acc: 0.5232\n",
      "Epoch 00004: val_loss improved from 1.29966 to 1.23024, saving model to models/best_model_ethnicity.hdf5\n",
      "17126/17126 [==============================] - 227s 13ms/step - loss: 1.3045 - acc: 0.5232 - val_loss: 1.2302 - val_acc: 0.5458\n",
      "Epoch 5/100\n",
      "17088/17126 [============================>.] - ETA: 0s - loss: 1.2791 - acc: 0.5301\n",
      "Epoch 00005: val_loss improved from 1.23024 to 1.19886, saving model to models/best_model_ethnicity.hdf5\n",
      "17126/17126 [==============================] - 227s 13ms/step - loss: 1.2791 - acc: 0.5300 - val_loss: 1.1989 - val_acc: 0.5557\n",
      "Epoch 6/100\n",
      "17088/17126 [============================>.] - ETA: 0s - loss: 1.2566 - acc: 0.5400\n",
      "Epoch 00006: val_loss improved from 1.19886 to 1.16812, saving model to models/best_model_ethnicity.hdf5\n",
      "17126/17126 [==============================] - 259s 15ms/step - loss: 1.2570 - acc: 0.5398 - val_loss: 1.1681 - val_acc: 0.5607\n",
      "Epoch 7/100\n",
      "17088/17126 [============================>.] - ETA: 0s - loss: 1.2375 - acc: 0.5455\n",
      "Epoch 00007: val_loss did not improve from 1.16812\n",
      "17126/17126 [==============================] - 297s 17ms/step - loss: 1.2378 - acc: 0.5455 - val_loss: 1.2054 - val_acc: 0.5653\n",
      "Epoch 8/100\n",
      "17088/17126 [============================>.] - ETA: 0s - loss: 1.2221 - acc: 0.5509\n",
      "Epoch 00008: val_loss did not improve from 1.16812\n",
      "17126/17126 [==============================] - 257s 15ms/step - loss: 1.2220 - acc: 0.5509 - val_loss: 1.1749 - val_acc: 0.5680\n",
      "Epoch 9/100\n",
      "17088/17126 [============================>.] - ETA: 0s - loss: 1.2155 - acc: 0.5554\n",
      "Epoch 00009: val_loss did not improve from 1.16812\n",
      "17126/17126 [==============================] - 285s 17ms/step - loss: 1.2159 - acc: 0.5552 - val_loss: 1.1682 - val_acc: 0.5799\n",
      "Epoch 10/100\n",
      "17088/17126 [============================>.] - ETA: 0s - loss: 1.2028 - acc: 0.5585\n",
      "Epoch 00010: val_loss did not improve from 1.16812\n",
      "17126/17126 [==============================] - 228s 13ms/step - loss: 1.2022 - acc: 0.5588 - val_loss: 1.1720 - val_acc: 0.5786\n",
      "Epoch 11/100\n",
      "17088/17126 [============================>.] - ETA: 0s - loss: 1.1896 - acc: 0.5632\n",
      "Epoch 00011: val_loss improved from 1.16812 to 1.13738, saving model to models/best_model_ethnicity.hdf5\n",
      "17126/17126 [==============================] - 264s 15ms/step - loss: 1.1898 - acc: 0.5633 - val_loss: 1.1374 - val_acc: 0.5974\n",
      "Epoch 12/100\n",
      "17088/17126 [============================>.] - ETA: 0s - loss: 1.1756 - acc: 0.5696\n",
      "Epoch 00012: val_loss improved from 1.13738 to 1.12478, saving model to models/best_model_ethnicity.hdf5\n",
      "17126/17126 [==============================] - 283s 16ms/step - loss: 1.1757 - acc: 0.5695 - val_loss: 1.1248 - val_acc: 0.6080\n",
      "Epoch 13/100\n",
      "17088/17126 [============================>.] - ETA: 0s - loss: 1.1765 - acc: 0.5733\n",
      "Epoch 00013: val_loss did not improve from 1.12478\n",
      "17126/17126 [==============================] - 241s 14ms/step - loss: 1.1762 - acc: 0.5733 - val_loss: 1.1268 - val_acc: 0.6017\n",
      "Epoch 14/100\n",
      "17088/17126 [============================>.] - ETA: 0s - loss: 1.1716 - acc: 0.5741\n",
      "Epoch 00014: val_loss improved from 1.12478 to 1.11811, saving model to models/best_model_ethnicity.hdf5\n",
      "17126/17126 [==============================] - 242s 14ms/step - loss: 1.1713 - acc: 0.5743 - val_loss: 1.1181 - val_acc: 0.6011\n",
      "Epoch 15/100\n",
      "17088/17126 [============================>.] - ETA: 0s - loss: 1.1564 - acc: 0.5785\n",
      "Epoch 00015: val_loss did not improve from 1.11811\n",
      "17126/17126 [==============================] - 252s 15ms/step - loss: 1.1563 - acc: 0.5785 - val_loss: 1.1375 - val_acc: 0.5782\n",
      "Epoch 16/100\n",
      "17088/17126 [============================>.] - ETA: 0s - loss: 1.1544 - acc: 0.5816\n",
      "Epoch 00016: val_loss improved from 1.11811 to 1.08913, saving model to models/best_model_ethnicity.hdf5\n",
      "17126/17126 [==============================] - 264s 15ms/step - loss: 1.1544 - acc: 0.5816 - val_loss: 1.0891 - val_acc: 0.6103\n",
      "Epoch 17/100\n",
      "17088/17126 [============================>.] - ETA: 0s - loss: 1.1475 - acc: 0.5873\n",
      "Epoch 00017: val_loss did not improve from 1.08913\n",
      "17126/17126 [==============================] - 226s 13ms/step - loss: 1.1478 - acc: 0.5871 - val_loss: 1.1268 - val_acc: 0.5637\n",
      "Epoch 18/100\n",
      "17088/17126 [============================>.] - ETA: 0s - loss: 1.1329 - acc: 0.5923\n",
      "Epoch 00018: val_loss did not improve from 1.08913\n",
      "17126/17126 [==============================] - 222s 13ms/step - loss: 1.1330 - acc: 0.5923 - val_loss: 1.1161 - val_acc: 0.5865\n",
      "Epoch 19/100\n",
      "17088/17126 [============================>.] - ETA: 0s - loss: 1.1343 - acc: 0.5864\n",
      "Epoch 00019: val_loss did not improve from 1.08913\n",
      "17126/17126 [==============================] - 218s 13ms/step - loss: 1.1342 - acc: 0.5865 - val_loss: 1.1493 - val_acc: 0.5504\n",
      "Epoch 20/100\n",
      "17088/17126 [============================>.] - ETA: 0s - loss: 1.1157 - acc: 0.6001\n",
      "Epoch 00020: val_loss improved from 1.08913 to 1.06356, saving model to models/best_model_ethnicity.hdf5\n",
      "17126/17126 [==============================] - 222s 13ms/step - loss: 1.1154 - acc: 0.6001 - val_loss: 1.0636 - val_acc: 0.6153\n",
      "Epoch 21/100\n",
      "17088/17126 [============================>.] - ETA: 0s - loss: 1.1096 - acc: 0.6002\n",
      "Epoch 00021: val_loss did not improve from 1.06356\n",
      "17126/17126 [==============================] - 218s 13ms/step - loss: 1.1098 - acc: 0.6000 - val_loss: 1.1530 - val_acc: 0.5280\n",
      "Epoch 22/100\n",
      "17088/17126 [============================>.] - ETA: 0s - loss: 1.0988 - acc: 0.6049\n",
      "Epoch 00022: val_loss improved from 1.06356 to 1.05141, saving model to models/best_model_ethnicity.hdf5\n",
      "17126/17126 [==============================] - 221s 13ms/step - loss: 1.0991 - acc: 0.6047 - val_loss: 1.0514 - val_acc: 0.6120\n",
      "Epoch 23/100\n",
      "17088/17126 [============================>.] - ETA: 0s - loss: 1.1059 - acc: 0.5990\n",
      "Epoch 00023: val_loss did not improve from 1.05141\n",
      "17126/17126 [==============================] - 219s 13ms/step - loss: 1.1057 - acc: 0.5990 - val_loss: 1.1192 - val_acc: 0.5719\n",
      "Epoch 24/100\n",
      "17088/17126 [============================>.] - ETA: 0s - loss: 1.0845 - acc: 0.6128\n",
      "Epoch 00024: val_loss did not improve from 1.05141\n",
      "17126/17126 [==============================] - 228s 13ms/step - loss: 1.0841 - acc: 0.6128 - val_loss: 1.1004 - val_acc: 0.5786\n",
      "Epoch 25/100\n",
      "17088/17126 [============================>.] - ETA: 0s - loss: 1.0870 - acc: 0.6081\n",
      "Epoch 00025: val_loss did not improve from 1.05141\n",
      "17126/17126 [==============================] - 288s 17ms/step - loss: 1.0876 - acc: 0.6080 - val_loss: 1.0867 - val_acc: 0.5981\n",
      "Epoch 26/100\n",
      "17088/17126 [============================>.] - ETA: 0s - loss: 1.0696 - acc: 0.6160\n",
      "Epoch 00026: val_loss did not improve from 1.05141\n",
      "17126/17126 [==============================] - 310s 18ms/step - loss: 1.0697 - acc: 0.6159 - val_loss: 1.0902 - val_acc: 0.5875\n",
      "Epoch 27/100\n",
      "17088/17126 [============================>.] - ETA: 0s - loss: 1.0772 - acc: 0.6162\n",
      "Epoch 00027: val_loss did not improve from 1.05141\n",
      "17126/17126 [==============================] - 250s 15ms/step - loss: 1.0775 - acc: 0.6159 - val_loss: 1.1020 - val_acc: 0.5643\n",
      "Epoch 28/100\n"
     ]
    },
    {
     "name": "stdout",
     "output_type": "stream",
     "text": [
      "17088/17126 [============================>.] - ETA: 0s - loss: 1.0576 - acc: 0.6214\n",
      "Epoch 00028: val_loss did not improve from 1.05141\n",
      "17126/17126 [==============================] - 210s 12ms/step - loss: 1.0578 - acc: 0.6212 - val_loss: 1.0732 - val_acc: 0.5888\n",
      "Epoch 29/100\n",
      "17088/17126 [============================>.] - ETA: 0s - loss: 1.0514 - acc: 0.6252\n",
      "Epoch 00029: val_loss did not improve from 1.05141\n",
      "17126/17126 [==============================] - 286s 17ms/step - loss: 1.0517 - acc: 0.6249 - val_loss: 1.1294 - val_acc: 0.5223\n",
      "Epoch 30/100\n",
      "17088/17126 [============================>.] - ETA: 0s - loss: 1.0584 - acc: 0.6213\n",
      "Epoch 00030: val_loss did not improve from 1.05141\n",
      "17126/17126 [==============================] - 292s 17ms/step - loss: 1.0582 - acc: 0.6213 - val_loss: 1.0640 - val_acc: 0.5997\n",
      "Epoch 31/100\n",
      "17088/17126 [============================>.] - ETA: 0s - loss: 1.0572 - acc: 0.6205\n",
      "Epoch 00031: val_loss did not improve from 1.05141\n",
      "17126/17126 [==============================] - 274s 16ms/step - loss: 1.0567 - acc: 0.6206 - val_loss: 1.0822 - val_acc: 0.5809\n",
      "Epoch 32/100\n",
      "17088/17126 [============================>.] - ETA: 0s - loss: 1.0440 - acc: 0.6260\n",
      "Epoch 00032: val_loss improved from 1.05141 to 1.01585, saving model to models/best_model_ethnicity.hdf5\n",
      "17126/17126 [==============================] - 263s 15ms/step - loss: 1.0440 - acc: 0.6260 - val_loss: 1.0159 - val_acc: 0.6090\n",
      "Epoch 33/100\n",
      "17088/17126 [============================>.] - ETA: 0s - loss: 1.0514 - acc: 0.6220\n",
      "Epoch 00033: val_loss did not improve from 1.01585\n",
      "17126/17126 [==============================] - 277s 16ms/step - loss: 1.0516 - acc: 0.6219 - val_loss: 1.1140 - val_acc: 0.5544\n",
      "Epoch 34/100\n",
      "17088/17126 [============================>.] - ETA: 0s - loss: 1.0336 - acc: 0.6310\n",
      "Epoch 00034: val_loss did not improve from 1.01585\n",
      "17126/17126 [==============================] - 251s 15ms/step - loss: 1.0336 - acc: 0.6310 - val_loss: 1.0762 - val_acc: 0.5858\n",
      "Epoch 35/100\n",
      "17088/17126 [============================>.] - ETA: 0s - loss: 1.0148 - acc: 0.6402\n",
      "Epoch 00035: val_loss did not improve from 1.01585\n",
      "17126/17126 [==============================] - 220s 13ms/step - loss: 1.0153 - acc: 0.6401 - val_loss: 1.0798 - val_acc: 0.5643\n",
      "Epoch 36/100\n",
      "17088/17126 [============================>.] - ETA: 0s - loss: 1.0193 - acc: 0.6390\n",
      "Epoch 00036: val_loss did not improve from 1.01585\n",
      "17126/17126 [==============================] - 244s 14ms/step - loss: 1.0195 - acc: 0.6390 - val_loss: 1.0385 - val_acc: 0.6047\n",
      "Epoch 37/100\n",
      "17088/17126 [============================>.] - ETA: 0s - loss: 1.0163 - acc: 0.6415\n",
      "Epoch 00037: val_loss did not improve from 1.01585\n",
      "17126/17126 [==============================] - 247s 14ms/step - loss: 1.0157 - acc: 0.6418 - val_loss: 1.1296 - val_acc: 0.5405\n",
      "Epoch 38/100\n",
      "17088/17126 [============================>.] - ETA: 0s - loss: 1.0069 - acc: 0.6456\n",
      "Epoch 00038: val_loss did not improve from 1.01585\n",
      "17126/17126 [==============================] - 229s 13ms/step - loss: 1.0071 - acc: 0.6455 - val_loss: 1.1280 - val_acc: 0.5495\n",
      "Epoch 39/100\n",
      "17088/17126 [============================>.] - ETA: 0s - loss: 0.9867 - acc: 0.6537\n",
      "Epoch 00039: val_loss did not improve from 1.01585\n",
      "17126/17126 [==============================] - 235s 14ms/step - loss: 0.9868 - acc: 0.6536 - val_loss: 1.0576 - val_acc: 0.5905\n",
      "Epoch 40/100\n",
      "17088/17126 [============================>.] - ETA: 0s - loss: 0.9857 - acc: 0.6510\n",
      "Epoch 00040: val_loss did not improve from 1.01585\n",
      "17126/17126 [==============================] - 227s 13ms/step - loss: 0.9860 - acc: 0.6508 - val_loss: 1.0892 - val_acc: 0.5753\n",
      "Epoch 41/100\n",
      "17088/17126 [============================>.] - ETA: 0s - loss: 0.9816 - acc: 0.6543\n",
      "Epoch 00041: val_loss did not improve from 1.01585\n",
      "17126/17126 [==============================] - 226s 13ms/step - loss: 0.9820 - acc: 0.6542 - val_loss: 1.1086 - val_acc: 0.5766\n",
      "Epoch 42/100\n",
      "17088/17126 [============================>.] - ETA: 0s - loss: 0.9681 - acc: 0.6603\n",
      "Epoch 00042: val_loss did not improve from 1.01585\n",
      "17126/17126 [==============================] - 228s 13ms/step - loss: 0.9679 - acc: 0.6604 - val_loss: 1.0549 - val_acc: 0.5971\n",
      "Epoch 00042: early stopping\n"
     ]
    }
   ],
   "source": [
    "list_callbacks = [tf.keras.callbacks.EarlyStopping(monitor='val_loss', patience=10, verbose=1),\n",
    "                  tf.keras.callbacks.ModelCheckpoint('models/best_model_ethnicity.hdf5', monitor='val_loss', verbose=1, save_best_only=True)]\n",
    "model.compile(loss=tf.keras.losses.categorical_crossentropy, optimizer='adam', metrics=['accuracy'])\n",
    "\n",
    "hist = model.fit(x=X_train, y=y_oh_train, epochs=EPOCHS, batch_size=BATCH_SIZE, callbacks=list_callbacks, validation_split=0.15)"
   ]
  },
  {
   "cell_type": "code",
   "execution_count": 9,
   "metadata": {},
   "outputs": [
    {
     "name": "stdout",
     "output_type": "stream",
     "text": [
      "Train => [0.9270473879154778, 0.6514467219483072]\n",
      "Test => [1.0852136095677773, 0.5975815523059618]\n"
     ]
    }
   ],
   "source": [
    "print('Train =>', model.evaluate(X_train, y_oh_train, verbose=0))\n",
    "print('Test =>', model.evaluate(X_test, y_oh_test, verbose=0))"
   ]
  },
  {
   "cell_type": "code",
   "execution_count": 10,
   "metadata": {},
   "outputs": [
    {
     "data": {
      "text/plain": [
       "<matplotlib.legend.Legend at 0x1a7194d390>"
      ]
     },
     "execution_count": 10,
     "metadata": {},
     "output_type": "execute_result"
    },
    {
     "data": {
      "image/png": "[encoded data removed]",
      "text/plain": [
       "<Figure size 432x288 with 1 Axes>"
      ]
     },
     "metadata": {
      "needs_background": "light"
     },
     "output_type": "display_data"
    }
   ],
   "source": [
    "hist_dict = hist.history\n",
    "loss_val = hist_dict['val_loss']\n",
    "loss_train = hist_dict['loss']\n",
    "\n",
    "plt.figure()\n",
    "plt.plot(loss_train, label='Train')\n",
    "plt.plot(loss_val, label='Validation')\n",
    "plt.legend()"
   ]
  },
  {
   "cell_type": "code",
   "execution_count": 11,
   "metadata": {},
   "outputs": [
    {
     "data": {
      "text/plain": [
       "<matplotlib.legend.Legend at 0x1a407cf828>"
      ]
     },
     "execution_count": 11,
     "metadata": {},
     "output_type": "execute_result"
    },
    {
     "data": {
      "image/png": "[encoded data removed]",
      "text/plain": [
       "<Figure size 432x288 with 1 Axes>"
      ]
     },
     "metadata": {
      "needs_background": "light"
     },
     "output_type": "display_data"
    }
   ],
   "source": [
    "hist_dict = hist.history\n",
    "acc_val = hist_dict['val_acc']\n",
    "acc_train = hist_dict['acc']\n",
    "\n",
    "plt.figure()\n",
    "plt.plot(acc_train, label='Train')\n",
    "plt.plot(acc_val, label='Validation')\n",
    "plt.legend()"
   ]
  }
 ],
 "metadata": {
  "kernelspec": {
   "display_name": "Python 3",
   "language": "python",
   "name": "python3"
  },
  "language_info": {
   "codemirror_mode": {
    "name": "ipython",
    "version": 3
   },
   "file_extension": ".py",
   "mimetype": "text/x-python",
   "name": "python",
   "nbconvert_exporter": "python",
   "pygments_lexer": "ipython3",
   "version": "3.6.5"
  }
 },
 "nbformat": 4,
 "nbformat_minor": 2
}
