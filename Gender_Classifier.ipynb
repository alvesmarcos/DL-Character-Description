{
 "cells": [
  {
   "cell_type": "markdown",
   "metadata": {},
   "source": [
    "# Gender Classifier\n",
    "\n",
    "This note we'll build a CNN to classify the gender problem. To build our CNN we'll use [tensorflow](https://www.tensorflow.org/)."
   ]
  },
  {
   "cell_type": "markdown",
   "metadata": {},
   "source": [
    "## Setup"
   ]
  },
  {
   "cell_type": "code",
   "execution_count": 1,
   "metadata": {},
   "outputs": [],
   "source": [
    "import numpy as np\n",
    "import matplotlib.pyplot as plt\n",
    "import tensorflow as tf\n",
    "import pickle as pkl\n",
    "from sklearn.model_selection import train_test_split\n",
    "from glob import glob\n",
    "%matplotlib inline"
   ]
  },
  {
   "cell_type": "markdown",
   "metadata": {},
   "source": [
    "## Helpers"
   ]
  },
  {
   "cell_type": "code",
   "execution_count": 2,
   "metadata": {},
   "outputs": [],
   "source": [
    "def load(name):\n",
    "    with open(name, 'rb') as f:\n",
    "        return pkl.load(f)\n",
    "\n",
    "def unwrapper_data(data):\n",
    "    images = []\n",
    "    labels = []\n",
    "    for f in data:\n",
    "        data = load(f)\n",
    "        for X, y in zip(data['X'], data['y']):\n",
    "            images.append(X)\n",
    "            labels.append(y)\n",
    "    return np.array(images, dtype=np.uint8),  np.array(labels, dtype=np.uint8)"
   ]
  },
  {
   "cell_type": "code",
   "execution_count": 3,
   "metadata": {},
   "outputs": [
    {
     "name": "stdout",
     "output_type": "stream",
     "text": [
      "['data/gender/02.pkl', 'data/gender/03.pkl', 'data/gender/01.pkl', 'data/gender/04.pkl', 'data/gender/05.pkl']\n"
     ]
    }
   ],
   "source": [
    "DATA_PATH = 'data/gender/'\n",
    "data = glob(DATA_PATH+'*.pkl')\n",
    "print(data)"
   ]
  },
  {
   "cell_type": "markdown",
   "metadata": {},
   "source": [
    "## Model"
   ]
  },
  {
   "cell_type": "code",
   "execution_count": 16,
   "metadata": {},
   "outputs": [
    {
     "name": "stdout",
     "output_type": "stream",
     "text": [
      "_________________________________________________________________\n",
      "Layer (type)                 Output Shape              Param #   \n",
      "=================================================================\n",
      "conv2d_36 (Conv2D)           (None, 100, 100, 64)      1792      \n",
      "_________________________________________________________________\n",
      "batch_normalization_36 (Batc (None, 100, 100, 64)      256       \n",
      "_________________________________________________________________\n",
      "activation_36 (Activation)   (None, 100, 100, 64)      0         \n",
      "_________________________________________________________________\n",
      "max_pooling2d_36 (MaxPooling (None, 50, 50, 64)        0         \n",
      "_________________________________________________________________\n",
      "conv2d_37 (Conv2D)           (None, 50, 50, 128)       73856     \n",
      "_________________________________________________________________\n",
      "batch_normalization_37 (Batc (None, 50, 50, 128)       512       \n",
      "_________________________________________________________________\n",
      "activation_37 (Activation)   (None, 50, 50, 128)       0         \n",
      "_________________________________________________________________\n",
      "max_pooling2d_37 (MaxPooling (None, 25, 25, 128)       0         \n",
      "_________________________________________________________________\n",
      "conv2d_38 (Conv2D)           (None, 25, 25, 256)       295168    \n",
      "_________________________________________________________________\n",
      "batch_normalization_38 (Batc (None, 25, 25, 256)       1024      \n",
      "_________________________________________________________________\n",
      "activation_38 (Activation)   (None, 25, 25, 256)       0         \n",
      "_________________________________________________________________\n",
      "max_pooling2d_38 (MaxPooling (None, 12, 12, 256)       0         \n",
      "_________________________________________________________________\n",
      "flatten_12 (Flatten)         (None, 36864)             0         \n",
      "_________________________________________________________________\n",
      "dense_36 (Dense)             (None, 256)               9437440   \n",
      "_________________________________________________________________\n",
      "dropout_24 (Dropout)         (None, 256)               0         \n",
      "_________________________________________________________________\n",
      "dense_37 (Dense)             (None, 256)               65792     \n",
      "_________________________________________________________________\n",
      "dropout_25 (Dropout)         (None, 256)               0         \n",
      "_________________________________________________________________\n",
      "dense_38 (Dense)             (None, 1)                 257       \n",
      "=================================================================\n",
      "Total params: 9,876,097\n",
      "Trainable params: 9,875,201\n",
      "Non-trainable params: 896\n",
      "_________________________________________________________________\n"
     ]
    }
   ],
   "source": [
    "classifier = tf.keras.Sequential([\n",
    "    tf.keras.layers.Conv2D(filters=64, kernel_size=(3,3), strides=(2,2), padding='same', input_shape=(200,200,3)),\n",
    "    tf.keras.layers.BatchNormalization(axis=3),\n",
    "    tf.keras.layers.Activation('relu'),\n",
    "    tf.keras.layers.MaxPooling2D(pool_size=(2,2), strides=(2,2), padding='valid'),\n",
    "    tf.keras.layers.Conv2D(filters=128, kernel_size=(3,3), padding='same'),\n",
    "    tf.keras.layers.BatchNormalization(axis=3),\n",
    "    tf.keras.layers.Activation('relu'),\n",
    "    tf.keras.layers.MaxPooling2D(pool_size=(2,2), strides=(2,2), padding='valid'),  \n",
    "    tf.keras.layers.Conv2D(filters=256, kernel_size=(3,3), padding='same'),\n",
    "    tf.keras.layers.BatchNormalization(axis=3),\n",
    "    tf.keras.layers.Activation('relu'),\n",
    "    tf.keras.layers.MaxPooling2D(pool_size=(2,2), strides=(2,2), padding='valid'),\n",
    "    tf.keras.layers.Flatten(),\n",
    "    tf.keras.layers.Dense(256, activation='relu'),\n",
    "    tf.keras.layers.Dropout(rate=0.5),\n",
    "    tf.keras.layers.Dense(256, activation='relu'),\n",
    "    tf.keras.layers.Dropout(rate=0.5),\n",
    "    tf.keras.layers.Dense(1, activation='sigmoid')\n",
    "])\n",
    "classifier.summary()"
   ]
  },
  {
   "cell_type": "markdown",
   "metadata": {},
   "source": [
    "## Input"
   ]
  },
  {
   "cell_type": "code",
   "execution_count": 17,
   "metadata": {},
   "outputs": [
    {
     "data": {
      "text/plain": [
       "((20151, 200, 200, 3), (3557, 200, 200, 3), (20151,), (3557,))"
      ]
     },
     "execution_count": 17,
     "metadata": {},
     "output_type": "execute_result"
    }
   ],
   "source": [
    "X, y = unwrapper_data(data)\n",
    "X_train, X_test, y_train, y_test = train_test_split(X, y, test_size=0.15)\n",
    "X_train.shape, X_test.shape, y_train.shape, y_test.shape"
   ]
  },
  {
   "cell_type": "markdown",
   "metadata": {},
   "source": [
    "## Training"
   ]
  },
  {
   "cell_type": "code",
   "execution_count": 18,
   "metadata": {},
   "outputs": [],
   "source": [
    "BATCH_SIZE = 64\n",
    "EPOCHS = 100"
   ]
  },
  {
   "cell_type": "code",
   "execution_count": 19,
   "metadata": {},
   "outputs": [
    {
     "name": "stdout",
     "output_type": "stream",
     "text": [
      "Train on 17128 samples, validate on 3023 samples\n",
      "Epoch 1/100\n",
      "17088/17128 [============================>.] - ETA: 2s - loss: 2.7895 - acc: 0.6311\n",
      "Epoch 00001: val_loss improved from inf to 0.55644, saving model to models/best_model.hdf5\n",
      "17128/17128 [==============================] - 1181s 69ms/step - loss: 2.7843 - acc: 0.6312 - val_loss: 0.5564 - val_acc: 0.7271\n",
      "Epoch 2/100\n",
      "17088/17128 [============================>.] - ETA: 3s - loss: 0.4799 - acc: 0.7707\n",
      "Epoch 00002: val_loss improved from 0.55644 to 0.39197, saving model to models/best_model.hdf5\n",
      "17128/17128 [==============================] - 1364s 80ms/step - loss: 0.4802 - acc: 0.7708 - val_loss: 0.3920 - val_acc: 0.8243\n",
      "Epoch 3/100\n",
      "17088/17128 [============================>.] - ETA: 2s - loss: 0.3856 - acc: 0.8243\n",
      "Epoch 00003: val_loss improved from 0.39197 to 0.33869, saving model to models/best_model.hdf5\n",
      "17128/17128 [==============================] - 1231s 72ms/step - loss: 0.3859 - acc: 0.8243 - val_loss: 0.3387 - val_acc: 0.8485\n",
      "Epoch 4/100\n",
      "17088/17128 [============================>.] - ETA: 2s - loss: 0.3452 - acc: 0.8418\n",
      "Epoch 00004: val_loss improved from 0.33869 to 0.30750, saving model to models/best_model.hdf5\n",
      "17128/17128 [==============================] - 1178s 69ms/step - loss: 0.3452 - acc: 0.8418 - val_loss: 0.3075 - val_acc: 0.8548\n",
      "Epoch 5/100\n",
      "17088/17128 [============================>.] - ETA: 2s - loss: 0.3087 - acc: 0.8597\n",
      "Epoch 00005: val_loss did not improve from 0.30750\n",
      "17128/17128 [==============================] - 1255s 73ms/step - loss: 0.3085 - acc: 0.8598 - val_loss: 0.3511 - val_acc: 0.8320\n",
      "Epoch 6/100\n",
      "17088/17128 [============================>.] - ETA: 3s - loss: 0.2933 - acc: 0.8682\n",
      "Epoch 00006: val_loss did not improve from 0.30750\n",
      "17128/17128 [==============================] - 1386s 81ms/step - loss: 0.2932 - acc: 0.8683 - val_loss: 0.3120 - val_acc: 0.8683\n",
      "Epoch 7/100\n",
      "17088/17128 [============================>.] - ETA: 2s - loss: 0.2760 - acc: 0.8747\n",
      "Epoch 00007: val_loss improved from 0.30750 to 0.28926, saving model to models/best_model.hdf5\n",
      "17128/17128 [==============================] - 1299s 76ms/step - loss: 0.2758 - acc: 0.8748 - val_loss: 0.2893 - val_acc: 0.8793\n",
      "Epoch 8/100\n",
      "17088/17128 [============================>.] - ETA: 3s - loss: 0.2559 - acc: 0.8837\n",
      "Epoch 00008: val_loss improved from 0.28926 to 0.28650, saving model to models/best_model.hdf5\n",
      "17128/17128 [==============================] - 1591s 93ms/step - loss: 0.2558 - acc: 0.8839 - val_loss: 0.2865 - val_acc: 0.8720\n",
      "Epoch 9/100\n",
      "17088/17128 [============================>.] - ETA: 2s - loss: 0.2444 - acc: 0.8895\n",
      "Epoch 00009: val_loss improved from 0.28650 to 0.27470, saving model to models/best_model.hdf5\n",
      "17128/17128 [==============================] - 1145s 67ms/step - loss: 0.2442 - acc: 0.8897 - val_loss: 0.2747 - val_acc: 0.8849\n",
      "Epoch 10/100\n",
      "17088/17128 [============================>.] - ETA: 2s - loss: 0.2316 - acc: 0.8969\n",
      "Epoch 00010: val_loss improved from 0.27470 to 0.26755, saving model to models/best_model.hdf5\n",
      "17128/17128 [==============================] - 1280s 75ms/step - loss: 0.2314 - acc: 0.8970 - val_loss: 0.2676 - val_acc: 0.8905\n",
      "Epoch 11/100\n",
      "17088/17128 [============================>.] - ETA: 2s - loss: 0.2170 - acc: 0.9027\n",
      "Epoch 00011: val_loss did not improve from 0.26755\n",
      "17128/17128 [==============================] - 1222s 71ms/step - loss: 0.2170 - acc: 0.9027 - val_loss: 0.2707 - val_acc: 0.8826\n",
      "Epoch 12/100\n",
      "17088/17128 [============================>.] - ETA: 1:22 - loss: 0.2111 - acc: 0.9073\n",
      "Epoch 00012: val_loss did not improve from 0.26755\n",
      "17128/17128 [==============================] - 35501s 2s/step - loss: 0.2109 - acc: 0.9074 - val_loss: 0.2683 - val_acc: 0.8816\n",
      "Epoch 13/100\n",
      "17088/17128 [============================>.] - ETA: 2s - loss: 0.1978 - acc: 0.9130\n",
      "Epoch 00013: val_loss improved from 0.26755 to 0.26518, saving model to models/best_model.hdf5\n",
      "17128/17128 [==============================] - 1240s 72ms/step - loss: 0.1978 - acc: 0.9129 - val_loss: 0.2652 - val_acc: 0.8988\n",
      "Epoch 14/100\n",
      "17088/17128 [============================>.] - ETA: 2s - loss: 0.1826 - acc: 0.9202\n",
      "Epoch 00014: val_loss improved from 0.26518 to 0.23749, saving model to models/best_model.hdf5\n",
      "17128/17128 [==============================] - 1202s 70ms/step - loss: 0.1829 - acc: 0.9202 - val_loss: 0.2375 - val_acc: 0.8984\n",
      "Epoch 15/100\n",
      "17088/17128 [============================>.] - ETA: 3s - loss: 0.1820 - acc: 0.9194\n",
      "Epoch 00015: val_loss did not improve from 0.23749\n",
      "17128/17128 [==============================] - 1685s 98ms/step - loss: 0.1824 - acc: 0.9191 - val_loss: 0.2538 - val_acc: 0.8925\n",
      "Epoch 16/100\n",
      "17088/17128 [============================>.] - ETA: 2s - loss: 0.1681 - acc: 0.9241\n",
      "Epoch 00016: val_loss did not improve from 0.23749\n",
      "17128/17128 [==============================] - 1211s 71ms/step - loss: 0.1681 - acc: 0.9241 - val_loss: 0.2553 - val_acc: 0.8941\n",
      "Epoch 17/100\n",
      "17088/17128 [============================>.] - ETA: 2s - loss: 0.1626 - acc: 0.9274\n",
      "Epoch 00017: val_loss did not improve from 0.23749\n",
      "17128/17128 [==============================] - 1168s 68ms/step - loss: 0.1626 - acc: 0.9274 - val_loss: 0.2463 - val_acc: 0.8935\n",
      "Epoch 18/100\n",
      "17088/17128 [============================>.] - ETA: 8s - loss: 0.1481 - acc: 0.9355 \n",
      "Epoch 00018: val_loss did not improve from 0.23749\n",
      "17128/17128 [==============================] - 3832s 224ms/step - loss: 0.1480 - acc: 0.9355 - val_loss: 0.2834 - val_acc: 0.8865\n",
      "Epoch 19/100\n",
      "17088/17128 [============================>.] - ETA: 3s - loss: 0.1501 - acc: 0.9337\n",
      "Epoch 00019: val_loss did not improve from 0.23749\n",
      "17128/17128 [==============================] - 1451s 85ms/step - loss: 0.1503 - acc: 0.9336 - val_loss: 0.2736 - val_acc: 0.8869\n",
      "Epoch 20/100\n",
      "17088/17128 [============================>.] - ETA: 2s - loss: 0.1408 - acc: 0.9403\n",
      "Epoch 00020: val_loss improved from 0.23749 to 0.23418, saving model to models/best_model.hdf5\n",
      "17128/17128 [==============================] - 1149s 67ms/step - loss: 0.1407 - acc: 0.9404 - val_loss: 0.2342 - val_acc: 0.9044\n",
      "Epoch 21/100\n",
      "17088/17128 [============================>.] - ETA: 4s - loss: 0.1260 - acc: 0.9446 \n",
      "Epoch 00021: val_loss did not improve from 0.23418\n",
      "17128/17128 [==============================] - 2137s 125ms/step - loss: 0.1260 - acc: 0.9446 - val_loss: 0.2415 - val_acc: 0.9021\n",
      "Epoch 22/100\n",
      "17088/17128 [============================>.] - ETA: 4s - loss: 0.1276 - acc: 0.9446 \n",
      "Epoch 00022: val_loss did not improve from 0.23418\n",
      "17128/17128 [==============================] - 1980s 116ms/step - loss: 0.1275 - acc: 0.9446 - val_loss: 0.2795 - val_acc: 0.8809\n",
      "Epoch 23/100\n",
      "17088/17128 [============================>.] - ETA: 11s - loss: 0.1166 - acc: 0.9493\n",
      "Epoch 00023: val_loss did not improve from 0.23418\n",
      "17128/17128 [==============================] - 5126s 299ms/step - loss: 0.1166 - acc: 0.9492 - val_loss: 0.3123 - val_acc: 0.8803\n",
      "Epoch 24/100\n",
      "17088/17128 [============================>.] - ETA: 1s - loss: 0.1134 - acc: 0.9504\n",
      "Epoch 00024: val_loss did not improve from 0.23418\n",
      "17128/17128 [==============================] - 888s 52ms/step - loss: 0.1134 - acc: 0.9504 - val_loss: 0.2472 - val_acc: 0.9054\n",
      "Epoch 25/100\n",
      "17088/17128 [============================>.] - ETA: 2s - loss: 0.1031 - acc: 0.9563\n",
      "Epoch 00025: val_loss did not improve from 0.23418\n",
      "17128/17128 [==============================] - 1243s 73ms/step - loss: 0.1034 - acc: 0.9562 - val_loss: 0.2618 - val_acc: 0.8981\n",
      "Epoch 26/100\n",
      "17088/17128 [============================>.] - ETA: 2s - loss: 0.0998 - acc: 0.9553\n",
      "Epoch 00026: val_loss did not improve from 0.23418\n",
      "17128/17128 [==============================] - 1186s 69ms/step - loss: 0.0997 - acc: 0.9553 - val_loss: 0.2390 - val_acc: 0.9027\n",
      "Epoch 27/100\n",
      "17088/17128 [============================>.] - ETA: 5s - loss: 0.0952 - acc: 0.9586 \n",
      "Epoch 00027: val_loss did not improve from 0.23418\n",
      "17128/17128 [==============================] - 2374s 139ms/step - loss: 0.0951 - acc: 0.9586 - val_loss: 0.2774 - val_acc: 0.9004\n",
      "Epoch 28/100\n",
      "17088/17128 [============================>.] - ETA: 2s - loss: 0.0911 - acc: 0.9604\n",
      "Epoch 00028: val_loss did not improve from 0.23418\n",
      "17128/17128 [==============================] - 1257s 73ms/step - loss: 0.0912 - acc: 0.9604 - val_loss: 0.3348 - val_acc: 0.8938\n"
     ]
    },
    {
     "name": "stdout",
     "output_type": "stream",
     "text": [
      "Epoch 29/100\n",
      "17088/17128 [============================>.] - ETA: 3s - loss: 0.0856 - acc: 0.9613\n",
      "Epoch 00029: val_loss did not improve from 0.23418\n",
      "17128/17128 [==============================] - 1416s 83ms/step - loss: 0.0855 - acc: 0.9613 - val_loss: 0.2927 - val_acc: 0.8978\n",
      "Epoch 30/100\n",
      "17088/17128 [============================>.] - ETA: 2s - loss: 0.0782 - acc: 0.9656\n",
      "Epoch 00030: val_loss did not improve from 0.23418\n",
      "17128/17128 [==============================] - 1320s 77ms/step - loss: 0.0781 - acc: 0.9657 - val_loss: 0.3002 - val_acc: 0.9001\n",
      "Epoch 00030: early stopping\n"
     ]
    }
   ],
   "source": [
    "list_callbacks = [tf.keras.callbacks.EarlyStopping(monitor='val_loss', patience=10, verbose=1),\n",
    "                  tf.keras.callbacks.ModelCheckpoint('models/best_model.hdf5', monitor='val_loss', verbose=1, save_best_only=True)]\n",
    "classifier.compile(loss=tf.keras.losses.binary_crossentropy, optimizer='adam', metrics=['accuracy'])\n",
    "\n",
    "hist = classifier.fit(x=X_train, y=y_train, epochs=EPOCHS, batch_size=BATCH_SIZE, callbacks=list_callbacks, validation_split=0.15)"
   ]
  },
  {
   "cell_type": "code",
   "execution_count": 20,
   "metadata": {},
   "outputs": [
    {
     "name": "stdout",
     "output_type": "stream",
     "text": [
      "Train => [0.08880134740512807, 0.9703240533761485]\n",
      "Test => [0.28022551612333113, 0.9072251897666573]\n"
     ]
    }
   ],
   "source": [
    "print('Train =>', classifier.evaluate(X_train, y_train, verbose=0))\n",
    "print('Test =>', classifier.evaluate(X_test, y_test, verbose=0))"
   ]
  },
  {
   "cell_type": "code",
   "execution_count": 21,
   "metadata": {},
   "outputs": [
    {
     "data": {
      "text/plain": [
       "<matplotlib.legend.Legend at 0x1a2e824240>"
      ]
     },
     "execution_count": 21,
     "metadata": {},
     "output_type": "execute_result"
    },
    {
     "data": {
      "image/png": "[encoded data removed]",
      "text/plain": [
       "<Figure size 432x288 with 1 Axes>"
      ]
     },
     "metadata": {
      "needs_background": "light"
     },
     "output_type": "display_data"
    }
   ],
   "source": [
    "hist_dict = hist.history\n",
    "loss_val = hist_dict['val_loss']\n",
    "loss_train = hist_dict['loss']\n",
    "\n",
    "plt.figure()\n",
    "plt.plot(loss_train, label='Train')\n",
    "plt.plot(loss_val, label='Validation')\n",
    "plt.legend()"
   ]
  },
  {
   "cell_type": "code",
   "execution_count": 22,
   "metadata": {},
   "outputs": [
    {
     "data": {
      "text/plain": [
       "<matplotlib.legend.Legend at 0x1c1d6b1e48>"
      ]
     },
     "execution_count": 22,
     "metadata": {},
     "output_type": "execute_result"
    },
    {
     "data": {
      "image/png": "[encoded data removed]",
      "text/plain": [
       "<Figure size 432x288 with 1 Axes>"
      ]
     },
     "metadata": {
      "needs_background": "light"
     },
     "output_type": "display_data"
    }
   ],
   "source": [
    "hist_dict = hist.history\n",
    "acc_val = hist_dict['val_acc']\n",
    "acc_train = hist_dict['acc']\n",
    "\n",
    "plt.figure()\n",
    "plt.plot(acc_train, label='Train')\n",
    "plt.plot(acc_val, label='Validation')\n",
    "plt.legend()"
   ]
  }
 ],
 "metadata": {
  "kernelspec": {
   "display_name": "Python 3",
   "language": "python",
   "name": "python3"
  },
  "language_info": {
   "codemirror_mode": {
    "name": "ipython",
    "version": 3
   },
   "file_extension": ".py",
   "mimetype": "text/x-python",
   "name": "python",
   "nbconvert_exporter": "python",
   "pygments_lexer": "ipython3",
   "version": "3.6.5"
  }
 },
 "nbformat": 4,
 "nbformat_minor": 2
}
